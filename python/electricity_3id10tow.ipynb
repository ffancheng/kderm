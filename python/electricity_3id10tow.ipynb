{
 "cells": [
  {
   "cell_type": "markdown",
   "id": "509de6f2",
   "metadata": {},
   "source": [
    "# <center>Dimension reduction for the electricity data</center>"
   ]
  },
  {
   "cell_type": "code",
   "execution_count": 102,
   "id": "afb1bf69",
   "metadata": {},
   "outputs": [],
   "source": [
    "import numpy as np\n",
    "import pandas as pd\n",
    "\n",
    "%matplotlib inline\n",
    "import matplotlib.pyplot as plt\n",
    "import matplotlib.pyplot as plt\n",
    "from mpl_toolkits.mplot3d import Axes3D\n",
    "\n",
    "from sklearn.decomposition import PCA\n",
    "from sklearn.datasets import (make_swiss_roll, make_s_curve)\n",
    "from sklearn import datasets\n",
    "import os"
   ]
  },
  {
   "cell_type": "code",
   "execution_count": 3,
   "id": "2111217e",
   "metadata": {},
   "outputs": [],
   "source": [
    "from megaman.datasets import generate_megaman_manifold\n",
    "from megaman.geometry import Geometry\n",
    "from megaman.embedding import (Isomap, LocallyLinearEmbedding, LTSA, SpectralEmbedding)\n",
    "from megaman.plotter import (plot_with_plotly, plot_embedding_with_plotly, \n",
    "                     plot_with_matplotlib, plot_embedding_with_matplotlib) \n",
    "from megaman.geometry.rmetric import RiemannMetric\n",
    "from megaman.utils.covar_plotter import plot_cov_ellipse"
   ]
  },
  {
   "cell_type": "markdown",
   "id": "e68ddea3",
   "metadata": {},
   "source": [
    "# Read the electricity data in feather format"
   ]
  },
  {
   "cell_type": "code",
   "execution_count": null,
   "id": "65790887",
   "metadata": {},
   "outputs": [],
   "source": [
    "os.getcwd()\n",
    "os.chdir(path=\"/Users/fche0019/git/kderm/\")"
   ]
  },
  {
   "cell_type": "code",
   "execution_count": null,
   "id": "97b82202",
   "metadata": {},
   "outputs": [],
   "source": [
    "# pip install feather-format\n",
    "\n",
    "import feather\n",
    "\n",
    "# read the smart meter data for 3 ids and 10 tow\n",
    "path = 'data/spdemand_3id10tow.feather'\n",
    "data = feather.read_dataframe(path)"
   ]
  },
  {
   "cell_type": "code",
   "execution_count": 6,
   "id": "9ec7a1d4",
   "metadata": {},
   "outputs": [
    {
     "data": {
      "text/html": [
       "<div>\n",
       "<style scoped>\n",
       "    .dataframe tbody tr th:only-of-type {\n",
       "        vertical-align: middle;\n",
       "    }\n",
       "\n",
       "    .dataframe tbody tr th {\n",
       "        vertical-align: top;\n",
       "    }\n",
       "\n",
       "    .dataframe thead th {\n",
       "        text-align: right;\n",
       "    }\n",
       "</style>\n",
       "<table border=\"1\" class=\"dataframe\">\n",
       "  <thead>\n",
       "    <tr style=\"text-align: right;\">\n",
       "      <th></th>\n",
       "      <th>p1</th>\n",
       "      <th>p2</th>\n",
       "      <th>p3</th>\n",
       "      <th>p4</th>\n",
       "      <th>p5</th>\n",
       "      <th>p6</th>\n",
       "      <th>p7</th>\n",
       "      <th>p8</th>\n",
       "      <th>p9</th>\n",
       "      <th>p10</th>\n",
       "      <th>...</th>\n",
       "      <th>p192</th>\n",
       "      <th>p193</th>\n",
       "      <th>p194</th>\n",
       "      <th>p195</th>\n",
       "      <th>p196</th>\n",
       "      <th>p197</th>\n",
       "      <th>p198</th>\n",
       "      <th>p199</th>\n",
       "      <th>p200</th>\n",
       "      <th>p201</th>\n",
       "    </tr>\n",
       "  </thead>\n",
       "  <tbody>\n",
       "    <tr>\n",
       "      <th>0</th>\n",
       "      <td>0.0</td>\n",
       "      <td>0.238885</td>\n",
       "      <td>0.365453</td>\n",
       "      <td>0.240042</td>\n",
       "      <td>0.228749</td>\n",
       "      <td>0.220417</td>\n",
       "      <td>0.219457</td>\n",
       "      <td>0.244405</td>\n",
       "      <td>0.255052</td>\n",
       "      <td>0.229229</td>\n",
       "      <td>...</td>\n",
       "      <td>0.0</td>\n",
       "      <td>0.0</td>\n",
       "      <td>0.0</td>\n",
       "      <td>0.0</td>\n",
       "      <td>0.0</td>\n",
       "      <td>0.0</td>\n",
       "      <td>0.0</td>\n",
       "      <td>0.0</td>\n",
       "      <td>0.0</td>\n",
       "      <td>0.0</td>\n",
       "    </tr>\n",
       "    <tr>\n",
       "      <th>1</th>\n",
       "      <td>0.0</td>\n",
       "      <td>0.210947</td>\n",
       "      <td>0.380939</td>\n",
       "      <td>0.254238</td>\n",
       "      <td>0.213338</td>\n",
       "      <td>0.219161</td>\n",
       "      <td>0.236684</td>\n",
       "      <td>0.219058</td>\n",
       "      <td>0.267506</td>\n",
       "      <td>0.219821</td>\n",
       "      <td>...</td>\n",
       "      <td>0.0</td>\n",
       "      <td>0.0</td>\n",
       "      <td>0.0</td>\n",
       "      <td>0.0</td>\n",
       "      <td>0.0</td>\n",
       "      <td>0.0</td>\n",
       "      <td>0.0</td>\n",
       "      <td>0.0</td>\n",
       "      <td>0.0</td>\n",
       "      <td>0.0</td>\n",
       "    </tr>\n",
       "    <tr>\n",
       "      <th>2</th>\n",
       "      <td>0.0</td>\n",
       "      <td>0.192525</td>\n",
       "      <td>0.424376</td>\n",
       "      <td>0.288099</td>\n",
       "      <td>0.235580</td>\n",
       "      <td>0.250969</td>\n",
       "      <td>0.230278</td>\n",
       "      <td>0.270373</td>\n",
       "      <td>0.304015</td>\n",
       "      <td>0.272996</td>\n",
       "      <td>...</td>\n",
       "      <td>0.0</td>\n",
       "      <td>0.0</td>\n",
       "      <td>0.0</td>\n",
       "      <td>0.0</td>\n",
       "      <td>0.0</td>\n",
       "      <td>0.0</td>\n",
       "      <td>0.0</td>\n",
       "      <td>0.0</td>\n",
       "      <td>0.0</td>\n",
       "      <td>0.0</td>\n",
       "    </tr>\n",
       "    <tr>\n",
       "      <th>3</th>\n",
       "      <td>0.0</td>\n",
       "      <td>0.208155</td>\n",
       "      <td>0.405754</td>\n",
       "      <td>0.314608</td>\n",
       "      <td>0.268202</td>\n",
       "      <td>0.285984</td>\n",
       "      <td>0.243804</td>\n",
       "      <td>0.275737</td>\n",
       "      <td>0.289666</td>\n",
       "      <td>0.262171</td>\n",
       "      <td>...</td>\n",
       "      <td>0.0</td>\n",
       "      <td>0.0</td>\n",
       "      <td>0.0</td>\n",
       "      <td>0.0</td>\n",
       "      <td>0.0</td>\n",
       "      <td>0.0</td>\n",
       "      <td>0.0</td>\n",
       "      <td>0.0</td>\n",
       "      <td>0.0</td>\n",
       "      <td>0.0</td>\n",
       "    </tr>\n",
       "    <tr>\n",
       "      <th>4</th>\n",
       "      <td>0.0</td>\n",
       "      <td>0.190807</td>\n",
       "      <td>0.399458</td>\n",
       "      <td>0.320765</td>\n",
       "      <td>0.266269</td>\n",
       "      <td>0.307441</td>\n",
       "      <td>0.276138</td>\n",
       "      <td>0.284069</td>\n",
       "      <td>0.246077</td>\n",
       "      <td>0.258823</td>\n",
       "      <td>...</td>\n",
       "      <td>0.0</td>\n",
       "      <td>0.0</td>\n",
       "      <td>0.0</td>\n",
       "      <td>0.0</td>\n",
       "      <td>0.0</td>\n",
       "      <td>0.0</td>\n",
       "      <td>0.0</td>\n",
       "      <td>0.0</td>\n",
       "      <td>0.0</td>\n",
       "      <td>0.0</td>\n",
       "    </tr>\n",
       "    <tr>\n",
       "      <th>5</th>\n",
       "      <td>0.0</td>\n",
       "      <td>0.221409</td>\n",
       "      <td>0.406770</td>\n",
       "      <td>0.307214</td>\n",
       "      <td>0.272319</td>\n",
       "      <td>0.296042</td>\n",
       "      <td>0.307814</td>\n",
       "      <td>0.284009</td>\n",
       "      <td>0.224959</td>\n",
       "      <td>0.246898</td>\n",
       "      <td>...</td>\n",
       "      <td>0.0</td>\n",
       "      <td>0.0</td>\n",
       "      <td>0.0</td>\n",
       "      <td>0.0</td>\n",
       "      <td>0.0</td>\n",
       "      <td>0.0</td>\n",
       "      <td>0.0</td>\n",
       "      <td>0.0</td>\n",
       "      <td>0.0</td>\n",
       "      <td>0.0</td>\n",
       "    </tr>\n",
       "    <tr>\n",
       "      <th>6</th>\n",
       "      <td>0.0</td>\n",
       "      <td>0.219468</td>\n",
       "      <td>0.385722</td>\n",
       "      <td>0.334539</td>\n",
       "      <td>0.266574</td>\n",
       "      <td>0.272725</td>\n",
       "      <td>0.340904</td>\n",
       "      <td>0.284846</td>\n",
       "      <td>0.204620</td>\n",
       "      <td>0.293964</td>\n",
       "      <td>...</td>\n",
       "      <td>0.0</td>\n",
       "      <td>0.0</td>\n",
       "      <td>0.0</td>\n",
       "      <td>0.0</td>\n",
       "      <td>0.0</td>\n",
       "      <td>0.0</td>\n",
       "      <td>0.0</td>\n",
       "      <td>0.0</td>\n",
       "      <td>0.0</td>\n",
       "      <td>0.0</td>\n",
       "    </tr>\n",
       "    <tr>\n",
       "      <th>7</th>\n",
       "      <td>0.0</td>\n",
       "      <td>0.198152</td>\n",
       "      <td>0.433498</td>\n",
       "      <td>0.308060</td>\n",
       "      <td>0.272565</td>\n",
       "      <td>0.314560</td>\n",
       "      <td>0.300925</td>\n",
       "      <td>0.298867</td>\n",
       "      <td>0.242466</td>\n",
       "      <td>0.271173</td>\n",
       "      <td>...</td>\n",
       "      <td>0.0</td>\n",
       "      <td>0.0</td>\n",
       "      <td>0.0</td>\n",
       "      <td>0.0</td>\n",
       "      <td>0.0</td>\n",
       "      <td>0.0</td>\n",
       "      <td>0.0</td>\n",
       "      <td>0.0</td>\n",
       "      <td>0.0</td>\n",
       "      <td>0.0</td>\n",
       "    </tr>\n",
       "    <tr>\n",
       "      <th>8</th>\n",
       "      <td>0.0</td>\n",
       "      <td>0.236356</td>\n",
       "      <td>0.429172</td>\n",
       "      <td>0.277322</td>\n",
       "      <td>0.294790</td>\n",
       "      <td>0.318611</td>\n",
       "      <td>0.242559</td>\n",
       "      <td>0.298281</td>\n",
       "      <td>0.256296</td>\n",
       "      <td>0.275008</td>\n",
       "      <td>...</td>\n",
       "      <td>0.0</td>\n",
       "      <td>0.0</td>\n",
       "      <td>0.0</td>\n",
       "      <td>0.0</td>\n",
       "      <td>0.0</td>\n",
       "      <td>0.0</td>\n",
       "      <td>0.0</td>\n",
       "      <td>0.0</td>\n",
       "      <td>0.0</td>\n",
       "      <td>0.0</td>\n",
       "    </tr>\n",
       "    <tr>\n",
       "      <th>9</th>\n",
       "      <td>0.0</td>\n",
       "      <td>0.226075</td>\n",
       "      <td>0.409913</td>\n",
       "      <td>0.230669</td>\n",
       "      <td>0.256909</td>\n",
       "      <td>0.310825</td>\n",
       "      <td>0.212593</td>\n",
       "      <td>0.267849</td>\n",
       "      <td>0.239767</td>\n",
       "      <td>0.206454</td>\n",
       "      <td>...</td>\n",
       "      <td>0.0</td>\n",
       "      <td>0.0</td>\n",
       "      <td>0.0</td>\n",
       "      <td>0.0</td>\n",
       "      <td>0.0</td>\n",
       "      <td>0.0</td>\n",
       "      <td>0.0</td>\n",
       "      <td>0.0</td>\n",
       "      <td>0.0</td>\n",
       "      <td>0.0</td>\n",
       "    </tr>\n",
       "  </tbody>\n",
       "</table>\n",
       "<p>10 rows × 201 columns</p>\n",
       "</div>"
      ],
      "text/plain": [
       "    p1        p2        p3        p4        p5        p6        p7        p8  \\\n",
       "0  0.0  0.238885  0.365453  0.240042  0.228749  0.220417  0.219457  0.244405   \n",
       "1  0.0  0.210947  0.380939  0.254238  0.213338  0.219161  0.236684  0.219058   \n",
       "2  0.0  0.192525  0.424376  0.288099  0.235580  0.250969  0.230278  0.270373   \n",
       "3  0.0  0.208155  0.405754  0.314608  0.268202  0.285984  0.243804  0.275737   \n",
       "4  0.0  0.190807  0.399458  0.320765  0.266269  0.307441  0.276138  0.284069   \n",
       "5  0.0  0.221409  0.406770  0.307214  0.272319  0.296042  0.307814  0.284009   \n",
       "6  0.0  0.219468  0.385722  0.334539  0.266574  0.272725  0.340904  0.284846   \n",
       "7  0.0  0.198152  0.433498  0.308060  0.272565  0.314560  0.300925  0.298867   \n",
       "8  0.0  0.236356  0.429172  0.277322  0.294790  0.318611  0.242559  0.298281   \n",
       "9  0.0  0.226075  0.409913  0.230669  0.256909  0.310825  0.212593  0.267849   \n",
       "\n",
       "         p9       p10  ...  p192  p193  p194  p195  p196  p197  p198  p199  \\\n",
       "0  0.255052  0.229229  ...   0.0   0.0   0.0   0.0   0.0   0.0   0.0   0.0   \n",
       "1  0.267506  0.219821  ...   0.0   0.0   0.0   0.0   0.0   0.0   0.0   0.0   \n",
       "2  0.304015  0.272996  ...   0.0   0.0   0.0   0.0   0.0   0.0   0.0   0.0   \n",
       "3  0.289666  0.262171  ...   0.0   0.0   0.0   0.0   0.0   0.0   0.0   0.0   \n",
       "4  0.246077  0.258823  ...   0.0   0.0   0.0   0.0   0.0   0.0   0.0   0.0   \n",
       "5  0.224959  0.246898  ...   0.0   0.0   0.0   0.0   0.0   0.0   0.0   0.0   \n",
       "6  0.204620  0.293964  ...   0.0   0.0   0.0   0.0   0.0   0.0   0.0   0.0   \n",
       "7  0.242466  0.271173  ...   0.0   0.0   0.0   0.0   0.0   0.0   0.0   0.0   \n",
       "8  0.256296  0.275008  ...   0.0   0.0   0.0   0.0   0.0   0.0   0.0   0.0   \n",
       "9  0.239767  0.206454  ...   0.0   0.0   0.0   0.0   0.0   0.0   0.0   0.0   \n",
       "\n",
       "   p200  p201  \n",
       "0   0.0   0.0  \n",
       "1   0.0   0.0  \n",
       "2   0.0   0.0  \n",
       "3   0.0   0.0  \n",
       "4   0.0   0.0  \n",
       "5   0.0   0.0  \n",
       "6   0.0   0.0  \n",
       "7   0.0   0.0  \n",
       "8   0.0   0.0  \n",
       "9   0.0   0.0  \n",
       "\n",
       "[10 rows x 201 columns]"
      ]
     },
     "execution_count": 6,
     "metadata": {},
     "output_type": "execute_result"
    }
   ],
   "source": [
    "data.head(10)"
   ]
  },
  {
   "cell_type": "code",
   "execution_count": 86,
   "id": "d3d85462",
   "metadata": {},
   "outputs": [
    {
     "data": {
      "text/plain": [
       "(30, 201)"
      ]
     },
     "execution_count": 86,
     "metadata": {},
     "output_type": "execute_result"
    }
   ],
   "source": [
    "N = len(data)\n",
    "data.shape"
   ]
  },
  {
   "cell_type": "markdown",
   "id": "ee229a72",
   "metadata": {},
   "source": [
    "### Alternatively, read the .rda file as pandas data frame\n",
    "```\n",
    "import pyreadr\n",
    "\n",
    "result = pyreadr.read_r('data/spdemand_3639id336tow.rda') # also works for Rds, RData\n",
    "print(result) # result is a dictionary where keys are the name of objects and the values python objects\n",
    "print(result.keys()) # let's check what objects we got\n",
    "df1 = result[\"spdemand\"] # extract the pandas data frame for object df1\n",
    "print(df1)\n",
    "df1\n",
    "```"
   ]
  },
  {
   "cell_type": "code",
   "execution_count": 87,
   "id": "c4189208",
   "metadata": {},
   "outputs": [
    {
     "name": "stdout",
     "output_type": "stream",
     "text": [
      "    p1        p2        p3        p4        p5        p6        p7        p8  \\\n",
      "0  0.0  0.238885  0.365453  0.240042  0.228749  0.220417  0.219457  0.244405   \n",
      "\n",
      "         p9       p10  ...  p192  p193  p194  p195  p196  p197  p198  p199  \\\n",
      "0  0.255052  0.229229  ...   0.0   0.0   0.0   0.0   0.0   0.0   0.0   0.0   \n",
      "\n",
      "   p200  p201  \n",
      "0   0.0   0.0  \n",
      "\n",
      "[1 rows x 201 columns]\n"
     ]
    },
    {
     "data": {
      "text/plain": [
       "pandas.core.frame.DataFrame"
      ]
     },
     "execution_count": 87,
     "metadata": {},
     "output_type": "execute_result"
    }
   ],
   "source": [
    "X = data.copy()\n",
    "print(X[:1])\n",
    "X['p1']\n",
    "type(X)"
   ]
  },
  {
   "cell_type": "markdown",
   "id": "9d179237",
   "metadata": {},
   "source": [
    "## Colors for plotting"
   ]
  },
  {
   "cell_type": "code",
   "execution_count": 88,
   "id": "b8c642f1",
   "metadata": {},
   "outputs": [],
   "source": [
    "# import cmapy\n",
    "# import random\n",
    "# rgb_color = cmapy.color('viridis', random.randrange(0, 256), rgb_order=True)\n",
    "# print(rgb_color)"
   ]
  },
  {
   "cell_type": "code",
   "execution_count": 89,
   "id": "dcd2c9b1",
   "metadata": {},
   "outputs": [
    {
     "name": "stdout",
     "output_type": "stream",
     "text": [
      "['#F4F4BB', '#6CBD86', '#D2A9DD', '#909A12', '#8C2AB7', '#6F1B15', '#792041', '#974CE9', '#CD11D1', '#491FC3', '#FDF845', '#0D6AE0', '#2F5E44', '#F5D7EB', '#67A45E', '#93FF19', '#E951B8', '#797400', '#FECEE8', '#A53430', '#780467', '#9D5D70', '#8BDF7D', '#ACF4B2', '#E1C5F1', '#4E8321', '#A62C77', '#893E17', '#5DEC2A', '#A49B5D']\n"
     ]
    }
   ],
   "source": [
    "from random import randint\n",
    "color = []\n",
    "\n",
    "for i in range(len(X)):\n",
    "    color.append('#%06X' % randint(0, 0xFFFFFF))\n",
    "\n",
    "print(color)"
   ]
  },
  {
   "cell_type": "markdown",
   "id": "f140f2fd",
   "metadata": {},
   "source": [
    "# Dimension reduction"
   ]
  },
  {
   "cell_type": "code",
   "execution_count": 51,
   "id": "f8338f9b",
   "metadata": {},
   "outputs": [],
   "source": [
    "# # compute the first four principal components and plot their pairwise relationships\n",
    "# X_pca = PCA(4).fit_transform(X)\n",
    "# print(X_pca)\n",
    "# X_pca.shape"
   ]
  },
  {
   "cell_type": "markdown",
   "id": "9f134ed0",
   "metadata": {},
   "source": [
    "### Initialize Geometry class"
   ]
  },
  {
   "cell_type": "code",
   "execution_count": 10,
   "id": "e7301b66",
   "metadata": {},
   "outputs": [],
   "source": [
    "radius = 1.0\n",
    "adjacency_method = 'cyflann'\n",
    "adjacency_kwds = {'radius':radius} # ignore distances above this radius\n",
    "affinity_method = 'gaussian'\n",
    "affinity_kwds = {'radius':radius} # A = exp(-||x - y||/radius^2) \n",
    "laplacian_method = 'geometric'\n",
    "laplacian_kwds = {'scaling_epps':radius} # scaling ensures convergence to Laplace-Beltrami operator\n",
    "\n",
    "geom = Geometry(adjacency_method=adjacency_method, adjacency_kwds=adjacency_kwds,\n",
    "                affinity_method=affinity_method, affinity_kwds=affinity_kwds,\n",
    "                laplacian_method=laplacian_method, laplacian_kwds=laplacian_kwds)"
   ]
  },
  {
   "cell_type": "markdown",
   "id": "83eead25",
   "metadata": {},
   "source": [
    "### Inputing Data to Geometry\n",
    "\n",
    "- set_data_matrix(): input an (n_observation X n_dimensions) array of data points\n",
    "- set_adjacency_matrix(): input an (n_observation X n_observation) pairwise (sparse) matrix indicating neighborhoods distances. This matrix should be sparse with zero entries considered Infinite. The diagonal is considered explicitly zero when calculating an affinity matrix.\n",
    "- set_affinity_matrix(): input an (n_observation X n_observation) pairwise (sparse) indicating similarity between points. High values indicate strong degree of similarity, the diagonal should take on the maximum value in its row."
   ]
  },
  {
   "cell_type": "code",
   "execution_count": 11,
   "id": "8081d8bc",
   "metadata": {},
   "outputs": [],
   "source": [
    "geom.set_data_matrix(X)"
   ]
  },
  {
   "cell_type": "markdown",
   "id": "0d866cd4",
   "metadata": {},
   "source": [
    "### Computing geometric matrices"
   ]
  },
  {
   "cell_type": "code",
   "execution_count": 12,
   "id": "f24c1a3e",
   "metadata": {},
   "outputs": [
    {
     "name": "stdout",
     "output_type": "stream",
     "text": [
      "  (0, 0)\t0.0\n",
      "  (0, 1)\t0.12581152\n",
      "  (0, 9)\t0.2149386\n",
      "  (0, 2)\t0.2216167\n",
      "  (0, 3)\t0.3542181\n",
      "  (0, 4)\t0.46090332\n",
      "  (0, 7)\t0.5062252\n",
      "  (0, 8)\t0.5082263\n",
      "  (0, 5)\t0.5110419\n",
      "  (0, 6)\t0.5166258\n",
      "  (1, 1)\t0.0\n",
      "  (1, 0)\t0.12581152\n",
      "  (1, 2)\t0.2241265\n",
      "  (1, 9)\t0.26356152\n",
      "  (1, 3)\t0.38429496\n",
      "  (1, 4)\t0.49680942\n",
      "  (1, 7)\t0.545292\n",
      "  (1, 8)\t0.5560001\n",
      "  (1, 5)\t0.55610156\n",
      "  (1, 6)\t0.55972785\n",
      "  (1, 16)\t0.9830599\n",
      "  (1, 17)\t0.98795474\n",
      "  (2, 2)\t0.0\n",
      "  (2, 0)\t0.2216167\n",
      "  (2, 1)\t0.2241265\n",
      "  :\t:\n",
      "  (28, 10)\t0.6269438\n",
      "  (28, 23)\t0.68509096\n",
      "  (28, 20)\t0.7148368\n",
      "  (28, 22)\t0.83988994\n",
      "  (28, 21)\t0.9804105\n",
      "  (29, 29)\t0.0\n",
      "  (29, 20)\t0.38048303\n",
      "  (29, 25)\t0.4015716\n",
      "  (29, 24)\t0.43618125\n",
      "  (29, 27)\t0.44154555\n",
      "  (29, 26)\t0.45245606\n",
      "  (29, 23)\t0.48907635\n",
      "  (29, 28)\t0.4891735\n",
      "  (29, 22)\t0.595647\n",
      "  (29, 13)\t0.60279715\n",
      "  (29, 19)\t0.60485256\n",
      "  (29, 12)\t0.61428106\n",
      "  (29, 10)\t0.61854815\n",
      "  (29, 14)\t0.61858356\n",
      "  (29, 18)\t0.62605\n",
      "  (29, 11)\t0.6374573\n",
      "  (29, 15)\t0.6478702\n",
      "  (29, 21)\t0.6612382\n",
      "  (29, 16)\t0.67864364\n",
      "  (29, 17)\t0.6876621\n"
     ]
    }
   ],
   "source": [
    "adjacency_matrix = geom.compute_adjacency_matrix()\n",
    "print(adjacency_matrix)"
   ]
  },
  {
   "cell_type": "code",
   "execution_count": 18,
   "id": "03a3e356",
   "metadata": {},
   "outputs": [
    {
     "name": "stdout",
     "output_type": "stream",
     "text": [
      "1\n"
     ]
    }
   ],
   "source": [
    "# Radius selection\n",
    "from scipy.sparse.csgraph import connected_components\n",
    "\n",
    "rad1 = 1 # choose a small radius to start, but result in a fully connected graph\n",
    "# compute an adjacency matrix with a radius\n",
    "geom.adjacency_kwds = {'radius':rad1}\n",
    "adjacency_matrix = geom.compute_adjacency_matrix()\n",
    "# compute the corresponding affinity matrix\n",
    "geom.affinity_kwds = {'radius':rad1}\n",
    "affinity_matrix = geom.compute_affinity_matrix({'radius':rad1})\n",
    "(number_connected_components, labels) = connected_components(affinity_matrix)\n",
    "print(number_connected_components) # 1 means fully connected graph"
   ]
  },
  {
   "cell_type": "markdown",
   "id": "949e669d",
   "metadata": {},
   "source": [
    "### Embedding\n",
    "\n",
    "The Isomap class functions as follows:\n",
    "\n",
    "- An existing Geometry object can be passed to .Isomap().\n",
    " \n",
    "- The .fit() method creates a Geometry object if one was not already passed and then calculates th embedding. \n",
    "    \n",
    "    The number of components and eigen solver can also be passed to the .fit() function. The .fit() function for Isomap  does not return anything but it does create the attribute self.embedding_. \n",
    "\n",
    "- The .fit_transform() function calls the fit() function and returns the embedding. It does not allow for changing parameters."
   ]
  },
  {
   "cell_type": "code",
   "execution_count": 19,
   "id": "56ab757f",
   "metadata": {},
   "outputs": [],
   "source": [
    "# select output dimension\n",
    "n_components = 2"
   ]
  },
  {
   "cell_type": "code",
   "execution_count": 20,
   "id": "a5b23a62",
   "metadata": {
    "scrolled": true
   },
   "outputs": [
    {
     "name": "stderr",
     "output_type": "stream",
     "text": [
      "/Users/fche0019/miniconda3/envs/manifold_env/lib/python3.5/site-packages/sklearn/utils/validation.py:457: DeprecationWarning: Passing 'None' to parameter 'accept_sparse' in methods check_array and check_X_y is deprecated in version 0.19 and will be removed in 0.21. Use 'accept_sparse=False'  instead.\n",
      "  \" instead.\", DeprecationWarning)\n",
      "/Users/fche0019/miniconda3/envs/manifold_env/lib/python3.5/site-packages/sklearn/utils/validation.py:457: DeprecationWarning: Passing 'None' to parameter 'accept_sparse' in methods check_array and check_X_y is deprecated in version 0.19 and will be removed in 0.21. Use 'accept_sparse=False'  instead.\n",
      "  \" instead.\", DeprecationWarning)\n",
      "/Users/fche0019/miniconda3/envs/manifold_env/lib/python3.5/site-packages/sklearn/utils/validation.py:457: DeprecationWarning: Passing 'None' to parameter 'accept_sparse' in methods check_array and check_X_y is deprecated in version 0.19 and will be removed in 0.21. Use 'accept_sparse=False'  instead.\n",
      "  \" instead.\", DeprecationWarning)\n",
      "/Users/fche0019/miniconda3/envs/manifold_env/lib/python3.5/site-packages/sklearn/utils/validation.py:457: DeprecationWarning: Passing 'None' to parameter 'accept_sparse' in methods check_array and check_X_y is deprecated in version 0.19 and will be removed in 0.21. Use 'accept_sparse=False'  instead.\n",
      "  \" instead.\", DeprecationWarning)\n"
     ]
    }
   ],
   "source": [
    "# four embedding methods\n",
    "isomap = Isomap(n_components=n_components, eigen_solver='arpack',geom=geom)\n",
    "embed_isomap = isomap.fit_transform(X)\n",
    "\n",
    "lle = LocallyLinearEmbedding(n_components=n_components, eigen_solver='arpack',geom=geom)\n",
    "embed_lle = lle.fit_transform(X)\n",
    "\n",
    "ltsa = LTSA(n_components=n_components,eigen_solver='arpack',geom=geom)\n",
    "embed_ltsa = ltsa.fit_transform(X)\n",
    "\n",
    "spectral = SpectralEmbedding(n_components=3, eigen_solver='amg',geom=geom, drop_first=False) # use 3 for spectral\n",
    "embed_spectral = spectral.fit_transform(X)"
   ]
  },
  {
   "cell_type": "code",
   "execution_count": 108,
   "id": "ba96f32d",
   "metadata": {
    "scrolled": true
   },
   "outputs": [
    {
     "name": "stdout",
     "output_type": "stream",
     "text": [
      "[[-0.96098402 -0.02262378]\n",
      " [-0.84732578 -0.03191154]\n",
      " [-1.06352013 -0.02708622]\n",
      " [-1.22846788 -0.03230552]\n",
      " [-1.34304618 -0.0349439 ]\n",
      " [-1.40298821 -0.0359239 ]\n",
      " [-1.40643186 -0.03584009]\n",
      " [-1.39358077 -0.03703178]\n",
      " [-1.40341289 -0.03633148]\n",
      " [-1.09860822 -0.02346174]\n",
      " [ 0.64128798  0.01008181]\n",
      " [ 0.68404936  0.06767942]\n",
      " [ 0.58623545  0.07955391]\n",
      " [ 0.51539093  0.10431326]\n",
      " [ 0.40737195  0.06506525]\n",
      " [ 0.35430859  0.09040949]\n",
      " [ 0.15216834 -0.01690298]\n",
      " [ 0.14418736  0.12988381]\n",
      " [ 0.39816597  0.11506704]\n",
      " [ 0.53815172  0.07580212]\n",
      " [ 0.89826395 -0.21445315]\n",
      " [ 1.08846739 -0.46282126]\n",
      " [ 0.95808606 -0.33112566]\n",
      " [ 0.83399686 -0.20024562]\n",
      " [ 0.72933941 -0.06537731]\n",
      " [ 0.66197256  0.05757586]\n",
      " [ 0.60223968  0.17703912]\n",
      " [ 0.58821946  0.26441734]\n",
      " [ 0.58384326  0.35477942]\n",
      " [ 0.78261967  0.01671809]]\n"
     ]
    }
   ],
   "source": [
    "print(embed_isomap)"
   ]
  },
  {
   "cell_type": "markdown",
   "id": "53deee22",
   "metadata": {},
   "source": [
    "### Embedding 2-D plots"
   ]
  },
  {
   "cell_type": "code",
   "execution_count": 48,
   "id": "9c06bf08",
   "metadata": {},
   "outputs": [
    {
     "data": {
      "image/png": "[encoded data removed]",
      "text/plain": [
       "<Figure size 432x288 with 4 Axes>"
      ]
     },
     "metadata": {
      "needs_background": "light"
     },
     "output_type": "display_data"
    }
   ],
   "source": [
    "fig, axes = plt.subplots(nrows=2, ncols=2)\n",
    "axes[0, 0].scatter(embed_ltsa[:, 0], embed_ltsa[:, 1], s=1, c=color)\n",
    "axes[0, 0].set_title('LTSA')\n",
    "axes[0, 1].scatter(embed_lle[:, 0], embed_lle[:, 1], s=1, c=color)\n",
    "axes[0, 1].set_title('LLE')\n",
    "axes[1, 0].scatter(embed_isomap[:, 0], embed_isomap[:, 1], s=1, c=color)\n",
    "axes[1, 0].set_title('Isomap')\n",
    "axes[1, 1].scatter(embed_spectral[:, 0], embed_spectral[:, 1], s=1, c=color)\n",
    "axes[1, 1].set_title('Spectral Embedding')\n",
    "plt.show()"
   ]
  },
  {
   "cell_type": "markdown",
   "id": "27f42ad8",
   "metadata": {},
   "source": [
    "# Riemannian metric\n",
    "\n",
    "To compute a R. Metric you will need an embedding and a Laplacian.\n",
    "\n",
    "If you plan to estimate the Riemannian Metric then when you compute the Laplacian for best results you should use **laplacian_method = 'geometric'** and set the keyword parameter 'scaling_epps' to the 'radius' that was used in the affinity method."
   ]
  },
  {
   "cell_type": "code",
   "execution_count": 52,
   "id": "22df5a17",
   "metadata": {},
   "outputs": [],
   "source": [
    "geom.laplacian_method = 'geometric'\n",
    "geom.laplacian_kwds = {'scaling_epps':radius} # scaling ensures convergence to Laplace-Beltrami operator\n",
    "laplacian_matrix = geom.compute_laplacian_matrix()"
   ]
  },
  {
   "cell_type": "markdown",
   "id": "61f2c11f",
   "metadata": {},
   "source": [
    "**The `H` matrix is the inverse of the Riemmanian matrix `R`**, both matrix has the dimension of N\\*d\\*d, where `N` is the `len(X)` and `d` is the embedding dimension. "
   ]
  },
  {
   "cell_type": "code",
   "execution_count": 53,
   "id": "0d7c3613",
   "metadata": {},
   "outputs": [],
   "source": [
    "# Estimate Riemannian metric for all four methods\n",
    "# from megaman.geometry.rmetric import RiemannMetric\n",
    "\n",
    "rmetric_spectral = RiemannMetric(embed_spectral, geom.laplacian_matrix)\n",
    "H_spectral = rmetric_spectral.get_dual_rmetric()\n",
    "\n",
    "rmetric_ltsa = RiemannMetric(embed_ltsa, geom.laplacian_matrix)\n",
    "H_ltsa = rmetric_ltsa.get_dual_rmetric()\n",
    "\n",
    "rmetric_lle = RiemannMetric(embed_lle, geom.laplacian_matrix)\n",
    "H_lle = rmetric_lle.get_dual_rmetric()\n",
    "\n",
    "rmetric_isomap = RiemannMetric(embed_isomap, geom.laplacian_matrix)\n",
    "H_isomap = rmetric_isomap.get_dual_rmetric()"
   ]
  },
  {
   "cell_type": "code",
   "execution_count": 56,
   "id": "cb602272",
   "metadata": {},
   "outputs": [
    {
     "name": "stdout",
     "output_type": "stream",
     "text": [
      "2\n"
     ]
    }
   ],
   "source": [
    "# The dimension of the array is N*d*d, where d is the embedding dimension\n",
    "print(rmetric_isomap.get_mdimG())"
   ]
  },
  {
   "cell_type": "code",
   "execution_count": 82,
   "id": "678223e3",
   "metadata": {},
   "outputs": [
    {
     "name": "stdout",
     "output_type": "stream",
     "text": [
      "[[[1.88944792e-01 5.56179886e-03]\n",
      "  [5.56179886e-03 2.03470292e-04]]\n",
      "\n",
      " [[3.99980219e-01 9.93324818e-03]\n",
      "  [9.93324818e-03 1.40431539e-03]]\n",
      "\n",
      " [[1.18443396e-01 2.78519276e-03]\n",
      "  [2.78519276e-03 9.28987831e-05]]\n",
      "\n",
      " [[7.62994802e-02 1.55781311e-03]\n",
      "  [1.55781311e-03 5.41072909e-05]]\n",
      "\n",
      " [[1.00143351e-01 2.20513437e-03]\n",
      "  [2.20513437e-03 6.97314905e-05]]]\n"
     ]
    }
   ],
   "source": [
    "print(H_isomap[:5, :]) # N*2*2 array"
   ]
  },
  {
   "cell_type": "code",
   "execution_count": 79,
   "id": "117190c2",
   "metadata": {},
   "outputs": [
    {
     "data": {
      "text/plain": [
       "array([[[ 2.70894769e+01, -7.40482654e+02],\n",
       "        [-7.40482654e+02,  2.51555917e+04]],\n",
       "\n",
       "       [[ 3.03288891e+00, -2.14527579e+01],\n",
       "        [-2.14527579e+01,  8.63834131e+02]],\n",
       "\n",
       "       [[ 2.86199178e+01, -8.58052013e+02],\n",
       "        [-8.58052013e+02,  3.64896088e+04]]])"
      ]
     },
     "execution_count": 79,
     "metadata": {},
     "output_type": "execute_result"
    }
   ],
   "source": [
    "R_isomap = rmetric_isomap.get_rmetric() # N*2*2 array\n",
    "R_isomap[:3, :]"
   ]
  },
  {
   "cell_type": "code",
   "execution_count": 81,
   "id": "27dc2221",
   "metadata": {},
   "outputs": [
    {
     "name": "stdout",
     "output_type": "stream",
     "text": [
      "[[[ 2.70894769e+01 -7.40482654e+02]\n",
      "  [-7.40482654e+02  2.51555917e+04]]\n",
      "\n",
      " [[ 3.03288891e+00 -2.14527579e+01]\n",
      "  [-2.14527579e+01  8.63834131e+02]]\n",
      "\n",
      " [[ 2.86199178e+01 -8.58052013e+02]\n",
      "  [-8.58052013e+02  3.64896088e+04]]]\n"
     ]
    },
    {
     "data": {
      "text/plain": [
       "False"
      ]
     },
     "execution_count": 81,
     "metadata": {},
     "output_type": "execute_result"
    }
   ],
   "source": [
    "H_inverse = np.linalg.inv(H_isomap)\n",
    "print(H_inverse[:3, :])\n",
    "np.array_equal(H_inverse, R_isomap)"
   ]
  },
  {
   "cell_type": "markdown",
   "id": "d79e6981",
   "metadata": {},
   "source": [
    "## Export the inverse of Riemannian matrix, H matrix\n",
    "\n",
    "The Numpy binary .npy can then be read in R using the `reticulate` package. "
   ]
  },
  {
   "cell_type": "code",
   "execution_count": 107,
   "id": "aa6345fc",
   "metadata": {},
   "outputs": [],
   "source": [
    "np.save(\"data/hmatrix.npy\", H_isomap)"
   ]
  },
  {
   "cell_type": "markdown",
   "id": "c5248f71",
   "metadata": {},
   "source": [
    "## Plot distortion\n",
    "\n",
    "Use the *cover_plotter* module included in megaman to plot a subset of the points as ellipses representing the distortion"
   ]
  },
  {
   "cell_type": "code",
   "execution_count": 94,
   "id": "2334f7ed",
   "metadata": {
    "scrolled": false
   },
   "outputs": [],
   "source": [
    "# from megaman.utils.covar_plotter import plot_cov_ellipse\n",
    "n_plot = 10 # number of ellipse to be plotted\n",
    "rng = np.random.RandomState(8675309)\n",
    "sample_points = rng.choice(range(N), n_plot, replace = False)"
   ]
  },
  {
   "cell_type": "code",
   "execution_count": 97,
   "id": "4935bdbf",
   "metadata": {},
   "outputs": [
    {
     "data": {
      "image/png": "[encoded data removed]",
      "text/plain": [
       "<Figure size 432x288 with 1 Axes>"
      ]
     },
     "metadata": {
      "needs_background": "light"
     },
     "output_type": "display_data"
    }
   ],
   "source": [
    "# Isomap\n",
    "f, ax = plt.subplots()\n",
    "ax.scatter(embed_isomap[:, 0], embed_isomap[:, 1], s = 1)\n",
    "ax.set_aspect('equal') # if an ellipse is a circle no distortion occured. \n",
    "for i in range(n_plot):\n",
    "    ii = sample_points[i]\n",
    "    cov = H_isomap[ii, :, :]\n",
    "    plot_cov_ellipse(cov*0.01, embed_isomap[ii, :] ,ax=ax, edgecolor='none', alpha = 0.5) # tune cov*0.1 to change the ellipse size\n",
    "plt.show()"
   ]
  },
  {
   "cell_type": "code",
   "execution_count": 116,
   "id": "845917ef",
   "metadata": {},
   "outputs": [
    {
     "data": {
      "image/png": "[encoded data removed]",
      "text/plain": [
       "<Figure size 432x288 with 1 Axes>"
      ]
     },
     "metadata": {
      "needs_background": "light"
     },
     "output_type": "display_data"
    }
   ],
   "source": [
    "# LLE embedding\n",
    "f, ax = plt.subplots()\n",
    "ax.scatter(embed_lle[:, 0], embed_lle[:, 1], s = 1)\n",
    "ax.set_aspect('equal') # if an ellipse is a circle no distortion occured. \n",
    "for i in range(n_plot):\n",
    "    ii = sample_points[i]\n",
    "    cov = H_lle[ii, :, :]\n",
    "    plot_cov_ellipse(cov*0.1, embed_lle[ii,:] ,ax=ax, edgecolor='none', alpha = 0.5)\n",
    "plt.show()"
   ]
  },
  {
   "cell_type": "code",
   "execution_count": 120,
   "id": "d695d989",
   "metadata": {},
   "outputs": [
    {
     "data": {
      "image/png": "[encoded data removed]",
      "text/plain": [
       "<Figure size 432x288 with 1 Axes>"
      ]
     },
     "metadata": {
      "needs_background": "light"
     },
     "output_type": "display_data"
    }
   ],
   "source": [
    "# LTSA embedding\n",
    "f, ax = plt.subplots()\n",
    "ax.scatter(embed_ltsa[:, 0], embed_ltsa[:, 1], s = 1)\n",
    "ax.set_aspect('equal') # if an ellipse is a circle no distortion occured. \n",
    "for i in range(n_plot):\n",
    "    ii = sample_points[i]\n",
    "    cov = H_ltsa[ii, :, :]\n",
    "    plot_cov_ellipse(cov*0.05, embed_ltsa[ii,:] ,ax=ax, edgecolor='none', alpha = 0.5)\n",
    "plt.show()"
   ]
  },
  {
   "cell_type": "code",
   "execution_count": 121,
   "id": "a24cf017",
   "metadata": {},
   "outputs": [
    {
     "ename": "TypeError",
     "evalue": "return arrays must be of ArrayType",
     "output_type": "error",
     "traceback": [
      "\u001b[0;31m---------------------------------------------------------------------------\u001b[0m",
      "\u001b[0;31mTypeError\u001b[0m                                 Traceback (most recent call last)",
      "\u001b[0;32m<ipython-input-121-a4e5f49e9d03>\u001b[0m in \u001b[0;36m<module>\u001b[0;34m()\u001b[0m\n\u001b[1;32m      6\u001b[0m     \u001b[0mii\u001b[0m \u001b[0;34m=\u001b[0m \u001b[0msample_points\u001b[0m\u001b[0;34m[\u001b[0m\u001b[0mi\u001b[0m\u001b[0;34m]\u001b[0m\u001b[0;34m\u001b[0m\u001b[0m\n\u001b[1;32m      7\u001b[0m     \u001b[0mcov\u001b[0m \u001b[0;34m=\u001b[0m \u001b[0mH_spectral\u001b[0m\u001b[0;34m[\u001b[0m\u001b[0mii\u001b[0m\u001b[0;34m,\u001b[0m \u001b[0;34m:\u001b[0m\u001b[0;34m,\u001b[0m \u001b[0;34m:\u001b[0m\u001b[0;34m]\u001b[0m\u001b[0;34m\u001b[0m\u001b[0m\n\u001b[0;32m----> 8\u001b[0;31m     \u001b[0mplot_cov_ellipse\u001b[0m\u001b[0;34m(\u001b[0m\u001b[0mcov\u001b[0m\u001b[0;34m*\u001b[0m\u001b[0;36m0.01\u001b[0m\u001b[0;34m,\u001b[0m \u001b[0membed_spectral\u001b[0m\u001b[0;34m[\u001b[0m\u001b[0mii\u001b[0m\u001b[0;34m,\u001b[0m\u001b[0;34m:\u001b[0m\u001b[0;34m]\u001b[0m \u001b[0;34m,\u001b[0m\u001b[0max\u001b[0m\u001b[0;34m=\u001b[0m\u001b[0max\u001b[0m\u001b[0;34m,\u001b[0m \u001b[0medgecolor\u001b[0m\u001b[0;34m=\u001b[0m\u001b[0;34m'none'\u001b[0m\u001b[0;34m,\u001b[0m \u001b[0malpha\u001b[0m \u001b[0;34m=\u001b[0m \u001b[0;36m0.5\u001b[0m\u001b[0;34m)\u001b[0m\u001b[0;34m\u001b[0m\u001b[0m\n\u001b[0m\u001b[1;32m      9\u001b[0m \u001b[0mplt\u001b[0m\u001b[0;34m.\u001b[0m\u001b[0mshow\u001b[0m\u001b[0;34m(\u001b[0m\u001b[0;34m)\u001b[0m\u001b[0;34m\u001b[0m\u001b[0m\n",
      "\u001b[0;32m/Users/fche0019/miniconda3/envs/manifold_env/lib/python3.5/site-packages/megaman/utils/covar_plotter.py\u001b[0m in \u001b[0;36mplot_cov_ellipse\u001b[0;34m(cov, pos, nstd, ax, **kwargs)\u001b[0m\n\u001b[1;32m     58\u001b[0m \u001b[0;34m\u001b[0m\u001b[0m\n\u001b[1;32m     59\u001b[0m     \u001b[0mvals\u001b[0m\u001b[0;34m,\u001b[0m \u001b[0mvecs\u001b[0m \u001b[0;34m=\u001b[0m \u001b[0meigsorted\u001b[0m\u001b[0;34m(\u001b[0m\u001b[0mcov\u001b[0m\u001b[0;34m)\u001b[0m\u001b[0;34m\u001b[0m\u001b[0m\n\u001b[0;32m---> 60\u001b[0;31m     \u001b[0mtheta\u001b[0m \u001b[0;34m=\u001b[0m \u001b[0mnp\u001b[0m\u001b[0;34m.\u001b[0m\u001b[0mdegrees\u001b[0m\u001b[0;34m(\u001b[0m\u001b[0mnp\u001b[0m\u001b[0;34m.\u001b[0m\u001b[0marctan2\u001b[0m\u001b[0;34m(\u001b[0m\u001b[0;34m*\u001b[0m\u001b[0mvecs\u001b[0m\u001b[0;34m[\u001b[0m\u001b[0;34m:\u001b[0m\u001b[0;34m,\u001b[0m\u001b[0;36m0\u001b[0m\u001b[0;34m]\u001b[0m\u001b[0;34m[\u001b[0m\u001b[0;34m:\u001b[0m\u001b[0;34m:\u001b[0m\u001b[0;34m-\u001b[0m\u001b[0;36m1\u001b[0m\u001b[0;34m]\u001b[0m\u001b[0;34m)\u001b[0m\u001b[0;34m)\u001b[0m\u001b[0;34m\u001b[0m\u001b[0m\n\u001b[0m\u001b[1;32m     61\u001b[0m \u001b[0;34m\u001b[0m\u001b[0m\n\u001b[1;32m     62\u001b[0m     \u001b[0;31m# Width and height are \"full\" widths, not radius\u001b[0m\u001b[0;34m\u001b[0m\u001b[0;34m\u001b[0m\u001b[0m\n",
      "\u001b[0;31mTypeError\u001b[0m: return arrays must be of ArrayType"
     ]
    },
    {
     "data": {
      "image/png": "[encoded data removed]",
      "text/plain": [
       "<Figure size 432x288 with 1 Axes>"
      ]
     },
     "metadata": {
      "needs_background": "light"
     },
     "output_type": "display_data"
    }
   ],
   "source": [
    "# Spectral embedding\n",
    "f, ax = plt.subplots()\n",
    "ax.scatter(embed_spectral[:, 0], embed_spectral[:, 1], s = 1)\n",
    "ax.set_aspect('equal') # if an ellipse is a circle no distortion occured. \n",
    "for i in range(n_plot):\n",
    "    ii = sample_points[i]\n",
    "    cov = H_spectral[ii, :, :]\n",
    "    plot_cov_ellipse(cov*0.01, embed_spectral[ii,:] ,ax=ax, edgecolor='none', alpha = 0.5)\n",
    "plt.show()"
   ]
  },
  {
   "cell_type": "code",
   "execution_count": null,
   "id": "12fbd2e3",
   "metadata": {},
   "outputs": [],
   "source": []
  }
 ],
 "metadata": {
  "kernelspec": {
   "display_name": "manifold_env36",
   "language": "python",
   "name": "manifold_env36"
  },
  "language_info": {
   "codemirror_mode": {
    "name": "ipython",
    "version": 3
   },
   "file_extension": ".py",
   "mimetype": "text/x-python",
   "name": "python",
   "nbconvert_exporter": "python",
   "pygments_lexer": "ipython3",
   "version": "3.5.6"
  }
 },
 "nbformat": 4,
 "nbformat_minor": 5
}
