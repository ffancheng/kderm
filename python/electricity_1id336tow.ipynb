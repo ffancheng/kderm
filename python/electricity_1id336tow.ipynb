{
 "cells": [
  {
   "cell_type": "markdown",
   "id": "509de6f2",
   "metadata": {},
   "source": [
    "# <center>Dimension reduction for the electricity data ID=1003</center>"
   ]
  },
  {
   "cell_type": "code",
   "execution_count": 46,
   "id": "afb1bf69",
   "metadata": {},
   "outputs": [],
   "source": [
    "import numpy as np\n",
    "import pandas as pd\n",
    "\n",
    "%matplotlib inline\n",
    "import matplotlib.pyplot as plt\n",
    "import matplotlib.pyplot as plt\n",
    "from mpl_toolkits.mplot3d import Axes3D\n",
    "\n",
    "from sklearn.decomposition import PCA\n",
    "from sklearn.datasets import (make_swiss_roll, make_s_curve)\n",
    "from sklearn import datasets\n",
    "import os\n",
    "\n",
    "# import feather"
   ]
  },
  {
   "cell_type": "code",
   "execution_count": 5,
   "id": "2111217e",
   "metadata": {},
   "outputs": [],
   "source": [
    "from megaman.datasets import generate_megaman_manifold\n",
    "from megaman.geometry import Geometry\n",
    "from megaman.embedding import (Isomap, LocallyLinearEmbedding, LTSA, SpectralEmbedding)\n",
    "from megaman.plotter import (plot_with_plotly, plot_embedding_with_plotly, \n",
    "                     plot_with_matplotlib, plot_embedding_with_matplotlib) \n",
    "from megaman.geometry.rmetric import RiemannMetric\n",
    "from megaman.utils.covar_plotter import plot_cov_ellipse"
   ]
  },
  {
   "cell_type": "markdown",
   "id": "e68ddea3",
   "metadata": {},
   "source": [
    "# Read the electricity data in feather format"
   ]
  },
  {
   "cell_type": "code",
   "execution_count": 6,
   "id": "65790887",
   "metadata": {},
   "outputs": [],
   "source": [
    "os.getcwd()\n",
    "os.chdir(path=\"/Users/fche0019/git/kderm/\")"
   ]
  },
  {
   "cell_type": "code",
   "execution_count": 7,
   "id": "97b82202",
   "metadata": {},
   "outputs": [],
   "source": [
    "# pip install feather-format\n",
    "\n",
    "import feather\n",
    "\n",
    "# read the smart meter data for 3 ids and 10 tow\n",
    "path = 'data/spdemand_1id336tow.feather'\n",
    "data = feather.read_dataframe(path)"
   ]
  },
  {
   "cell_type": "code",
   "execution_count": 8,
   "id": "9ec7a1d4",
   "metadata": {},
   "outputs": [
    {
     "data": {
      "text/html": [
       "<div>\n",
       "<style scoped>\n",
       "    .dataframe tbody tr th:only-of-type {\n",
       "        vertical-align: middle;\n",
       "    }\n",
       "\n",
       "    .dataframe tbody tr th {\n",
       "        vertical-align: top;\n",
       "    }\n",
       "\n",
       "    .dataframe thead th {\n",
       "        text-align: right;\n",
       "    }\n",
       "</style>\n",
       "<table border=\"1\" class=\"dataframe\">\n",
       "  <thead>\n",
       "    <tr style=\"text-align: right;\">\n",
       "      <th></th>\n",
       "      <th>p1</th>\n",
       "      <th>p2</th>\n",
       "      <th>p3</th>\n",
       "      <th>p4</th>\n",
       "      <th>p5</th>\n",
       "      <th>p6</th>\n",
       "      <th>p7</th>\n",
       "      <th>p8</th>\n",
       "      <th>p9</th>\n",
       "      <th>p10</th>\n",
       "      <th>...</th>\n",
       "      <th>p192</th>\n",
       "      <th>p193</th>\n",
       "      <th>p194</th>\n",
       "      <th>p195</th>\n",
       "      <th>p196</th>\n",
       "      <th>p197</th>\n",
       "      <th>p198</th>\n",
       "      <th>p199</th>\n",
       "      <th>p200</th>\n",
       "      <th>p201</th>\n",
       "    </tr>\n",
       "  </thead>\n",
       "  <tbody>\n",
       "    <tr>\n",
       "      <th>0</th>\n",
       "      <td>0.0</td>\n",
       "      <td>0.0</td>\n",
       "      <td>0.000000</td>\n",
       "      <td>0.000000</td>\n",
       "      <td>0.192508</td>\n",
       "      <td>0.327709</td>\n",
       "      <td>0.453519</td>\n",
       "      <td>0.378252</td>\n",
       "      <td>0.340095</td>\n",
       "      <td>0.334405</td>\n",
       "      <td>...</td>\n",
       "      <td>0.0</td>\n",
       "      <td>0.0</td>\n",
       "      <td>0.0</td>\n",
       "      <td>0.0</td>\n",
       "      <td>0.0</td>\n",
       "      <td>0.0</td>\n",
       "      <td>0.0</td>\n",
       "      <td>0.0</td>\n",
       "      <td>0.0</td>\n",
       "      <td>0.0</td>\n",
       "    </tr>\n",
       "    <tr>\n",
       "      <th>1</th>\n",
       "      <td>0.0</td>\n",
       "      <td>0.0</td>\n",
       "      <td>0.000000</td>\n",
       "      <td>0.140464</td>\n",
       "      <td>0.225874</td>\n",
       "      <td>0.388155</td>\n",
       "      <td>0.435609</td>\n",
       "      <td>0.356809</td>\n",
       "      <td>0.370509</td>\n",
       "      <td>0.290407</td>\n",
       "      <td>...</td>\n",
       "      <td>0.0</td>\n",
       "      <td>0.0</td>\n",
       "      <td>0.0</td>\n",
       "      <td>0.0</td>\n",
       "      <td>0.0</td>\n",
       "      <td>0.0</td>\n",
       "      <td>0.0</td>\n",
       "      <td>0.0</td>\n",
       "      <td>0.0</td>\n",
       "      <td>0.0</td>\n",
       "    </tr>\n",
       "    <tr>\n",
       "      <th>2</th>\n",
       "      <td>0.0</td>\n",
       "      <td>0.0</td>\n",
       "      <td>0.000000</td>\n",
       "      <td>0.238210</td>\n",
       "      <td>0.297175</td>\n",
       "      <td>0.404418</td>\n",
       "      <td>0.368572</td>\n",
       "      <td>0.375908</td>\n",
       "      <td>0.380093</td>\n",
       "      <td>0.287200</td>\n",
       "      <td>...</td>\n",
       "      <td>0.0</td>\n",
       "      <td>0.0</td>\n",
       "      <td>0.0</td>\n",
       "      <td>0.0</td>\n",
       "      <td>0.0</td>\n",
       "      <td>0.0</td>\n",
       "      <td>0.0</td>\n",
       "      <td>0.0</td>\n",
       "      <td>0.0</td>\n",
       "      <td>0.0</td>\n",
       "    </tr>\n",
       "    <tr>\n",
       "      <th>3</th>\n",
       "      <td>0.0</td>\n",
       "      <td>0.0</td>\n",
       "      <td>0.113826</td>\n",
       "      <td>0.271506</td>\n",
       "      <td>0.349884</td>\n",
       "      <td>0.437520</td>\n",
       "      <td>0.357417</td>\n",
       "      <td>0.349843</td>\n",
       "      <td>0.364760</td>\n",
       "      <td>0.253428</td>\n",
       "      <td>...</td>\n",
       "      <td>0.0</td>\n",
       "      <td>0.0</td>\n",
       "      <td>0.0</td>\n",
       "      <td>0.0</td>\n",
       "      <td>0.0</td>\n",
       "      <td>0.0</td>\n",
       "      <td>0.0</td>\n",
       "      <td>0.0</td>\n",
       "      <td>0.0</td>\n",
       "      <td>0.0</td>\n",
       "    </tr>\n",
       "    <tr>\n",
       "      <th>4</th>\n",
       "      <td>0.0</td>\n",
       "      <td>0.0</td>\n",
       "      <td>0.165439</td>\n",
       "      <td>0.278289</td>\n",
       "      <td>0.424867</td>\n",
       "      <td>0.404182</td>\n",
       "      <td>0.329715</td>\n",
       "      <td>0.354768</td>\n",
       "      <td>0.349593</td>\n",
       "      <td>0.261966</td>\n",
       "      <td>...</td>\n",
       "      <td>0.0</td>\n",
       "      <td>0.0</td>\n",
       "      <td>0.0</td>\n",
       "      <td>0.0</td>\n",
       "      <td>0.0</td>\n",
       "      <td>0.0</td>\n",
       "      <td>0.0</td>\n",
       "      <td>0.0</td>\n",
       "      <td>0.0</td>\n",
       "      <td>0.0</td>\n",
       "    </tr>\n",
       "    <tr>\n",
       "      <th>5</th>\n",
       "      <td>0.0</td>\n",
       "      <td>0.0</td>\n",
       "      <td>0.165439</td>\n",
       "      <td>0.308875</td>\n",
       "      <td>0.423780</td>\n",
       "      <td>0.409621</td>\n",
       "      <td>0.366819</td>\n",
       "      <td>0.345644</td>\n",
       "      <td>0.334802</td>\n",
       "      <td>0.259793</td>\n",
       "      <td>...</td>\n",
       "      <td>0.0</td>\n",
       "      <td>0.0</td>\n",
       "      <td>0.0</td>\n",
       "      <td>0.0</td>\n",
       "      <td>0.0</td>\n",
       "      <td>0.0</td>\n",
       "      <td>0.0</td>\n",
       "      <td>0.0</td>\n",
       "      <td>0.0</td>\n",
       "      <td>0.0</td>\n",
       "    </tr>\n",
       "    <tr>\n",
       "      <th>6</th>\n",
       "      <td>0.0</td>\n",
       "      <td>0.0</td>\n",
       "      <td>0.170587</td>\n",
       "      <td>0.337662</td>\n",
       "      <td>0.441113</td>\n",
       "      <td>0.397066</td>\n",
       "      <td>0.360494</td>\n",
       "      <td>0.372039</td>\n",
       "      <td>0.317396</td>\n",
       "      <td>0.251705</td>\n",
       "      <td>...</td>\n",
       "      <td>0.0</td>\n",
       "      <td>0.0</td>\n",
       "      <td>0.0</td>\n",
       "      <td>0.0</td>\n",
       "      <td>0.0</td>\n",
       "      <td>0.0</td>\n",
       "      <td>0.0</td>\n",
       "      <td>0.0</td>\n",
       "      <td>0.0</td>\n",
       "      <td>0.0</td>\n",
       "    </tr>\n",
       "    <tr>\n",
       "      <th>7</th>\n",
       "      <td>0.0</td>\n",
       "      <td>0.0</td>\n",
       "      <td>0.146389</td>\n",
       "      <td>0.328595</td>\n",
       "      <td>0.445168</td>\n",
       "      <td>0.427115</td>\n",
       "      <td>0.368672</td>\n",
       "      <td>0.372785</td>\n",
       "      <td>0.318489</td>\n",
       "      <td>0.240465</td>\n",
       "      <td>...</td>\n",
       "      <td>0.0</td>\n",
       "      <td>0.0</td>\n",
       "      <td>0.0</td>\n",
       "      <td>0.0</td>\n",
       "      <td>0.0</td>\n",
       "      <td>0.0</td>\n",
       "      <td>0.0</td>\n",
       "      <td>0.0</td>\n",
       "      <td>0.0</td>\n",
       "      <td>0.0</td>\n",
       "    </tr>\n",
       "    <tr>\n",
       "      <th>8</th>\n",
       "      <td>0.0</td>\n",
       "      <td>0.0</td>\n",
       "      <td>0.161535</td>\n",
       "      <td>0.305471</td>\n",
       "      <td>0.437178</td>\n",
       "      <td>0.414975</td>\n",
       "      <td>0.336253</td>\n",
       "      <td>0.336865</td>\n",
       "      <td>0.312312</td>\n",
       "      <td>0.255254</td>\n",
       "      <td>...</td>\n",
       "      <td>0.0</td>\n",
       "      <td>0.0</td>\n",
       "      <td>0.0</td>\n",
       "      <td>0.0</td>\n",
       "      <td>0.0</td>\n",
       "      <td>0.0</td>\n",
       "      <td>0.0</td>\n",
       "      <td>0.0</td>\n",
       "      <td>0.0</td>\n",
       "      <td>0.0</td>\n",
       "    </tr>\n",
       "    <tr>\n",
       "      <th>9</th>\n",
       "      <td>0.0</td>\n",
       "      <td>0.0</td>\n",
       "      <td>0.172723</td>\n",
       "      <td>0.256968</td>\n",
       "      <td>0.428906</td>\n",
       "      <td>0.406334</td>\n",
       "      <td>0.333699</td>\n",
       "      <td>0.318594</td>\n",
       "      <td>0.353975</td>\n",
       "      <td>0.259796</td>\n",
       "      <td>...</td>\n",
       "      <td>0.0</td>\n",
       "      <td>0.0</td>\n",
       "      <td>0.0</td>\n",
       "      <td>0.0</td>\n",
       "      <td>0.0</td>\n",
       "      <td>0.0</td>\n",
       "      <td>0.0</td>\n",
       "      <td>0.0</td>\n",
       "      <td>0.0</td>\n",
       "      <td>0.0</td>\n",
       "    </tr>\n",
       "  </tbody>\n",
       "</table>\n",
       "<p>10 rows × 201 columns</p>\n",
       "</div>"
      ],
      "text/plain": [
       "    p1   p2        p3        p4        p5        p6        p7        p8  \\\n",
       "0  0.0  0.0  0.000000  0.000000  0.192508  0.327709  0.453519  0.378252   \n",
       "1  0.0  0.0  0.000000  0.140464  0.225874  0.388155  0.435609  0.356809   \n",
       "2  0.0  0.0  0.000000  0.238210  0.297175  0.404418  0.368572  0.375908   \n",
       "3  0.0  0.0  0.113826  0.271506  0.349884  0.437520  0.357417  0.349843   \n",
       "4  0.0  0.0  0.165439  0.278289  0.424867  0.404182  0.329715  0.354768   \n",
       "5  0.0  0.0  0.165439  0.308875  0.423780  0.409621  0.366819  0.345644   \n",
       "6  0.0  0.0  0.170587  0.337662  0.441113  0.397066  0.360494  0.372039   \n",
       "7  0.0  0.0  0.146389  0.328595  0.445168  0.427115  0.368672  0.372785   \n",
       "8  0.0  0.0  0.161535  0.305471  0.437178  0.414975  0.336253  0.336865   \n",
       "9  0.0  0.0  0.172723  0.256968  0.428906  0.406334  0.333699  0.318594   \n",
       "\n",
       "         p9       p10  ...  p192  p193  p194  p195  p196  p197  p198  p199  \\\n",
       "0  0.340095  0.334405  ...   0.0   0.0   0.0   0.0   0.0   0.0   0.0   0.0   \n",
       "1  0.370509  0.290407  ...   0.0   0.0   0.0   0.0   0.0   0.0   0.0   0.0   \n",
       "2  0.380093  0.287200  ...   0.0   0.0   0.0   0.0   0.0   0.0   0.0   0.0   \n",
       "3  0.364760  0.253428  ...   0.0   0.0   0.0   0.0   0.0   0.0   0.0   0.0   \n",
       "4  0.349593  0.261966  ...   0.0   0.0   0.0   0.0   0.0   0.0   0.0   0.0   \n",
       "5  0.334802  0.259793  ...   0.0   0.0   0.0   0.0   0.0   0.0   0.0   0.0   \n",
       "6  0.317396  0.251705  ...   0.0   0.0   0.0   0.0   0.0   0.0   0.0   0.0   \n",
       "7  0.318489  0.240465  ...   0.0   0.0   0.0   0.0   0.0   0.0   0.0   0.0   \n",
       "8  0.312312  0.255254  ...   0.0   0.0   0.0   0.0   0.0   0.0   0.0   0.0   \n",
       "9  0.353975  0.259796  ...   0.0   0.0   0.0   0.0   0.0   0.0   0.0   0.0   \n",
       "\n",
       "   p200  p201  \n",
       "0   0.0   0.0  \n",
       "1   0.0   0.0  \n",
       "2   0.0   0.0  \n",
       "3   0.0   0.0  \n",
       "4   0.0   0.0  \n",
       "5   0.0   0.0  \n",
       "6   0.0   0.0  \n",
       "7   0.0   0.0  \n",
       "8   0.0   0.0  \n",
       "9   0.0   0.0  \n",
       "\n",
       "[10 rows x 201 columns]"
      ]
     },
     "execution_count": 8,
     "metadata": {},
     "output_type": "execute_result"
    }
   ],
   "source": [
    "data.head(10)"
   ]
  },
  {
   "cell_type": "code",
   "execution_count": 9,
   "id": "d3d85462",
   "metadata": {},
   "outputs": [
    {
     "data": {
      "text/plain": [
       "(336, 201)"
      ]
     },
     "execution_count": 9,
     "metadata": {},
     "output_type": "execute_result"
    }
   ],
   "source": [
    "N = len(data)\n",
    "data.shape"
   ]
  },
  {
   "cell_type": "code",
   "execution_count": 10,
   "id": "c4189208",
   "metadata": {},
   "outputs": [
    {
     "name": "stdout",
     "output_type": "stream",
     "text": [
      "    p1   p2   p3   p4        p5        p6        p7        p8        p9  \\\n",
      "0  0.0  0.0  0.0  0.0  0.192508  0.327709  0.453519  0.378252  0.340095   \n",
      "\n",
      "        p10  ...  p192  p193  p194  p195  p196  p197  p198  p199  p200  p201  \n",
      "0  0.334405  ...   0.0   0.0   0.0   0.0   0.0   0.0   0.0   0.0   0.0   0.0  \n",
      "\n",
      "[1 rows x 201 columns]\n"
     ]
    },
    {
     "data": {
      "text/plain": [
       "pandas.core.frame.DataFrame"
      ]
     },
     "execution_count": 10,
     "metadata": {},
     "output_type": "execute_result"
    }
   ],
   "source": [
    "X = data.copy()\n",
    "print(X[:1])\n",
    "X['p1']\n",
    "type(X)"
   ]
  },
  {
   "cell_type": "markdown",
   "id": "9d179237",
   "metadata": {},
   "source": [
    "## Colors for plotting"
   ]
  },
  {
   "cell_type": "code",
   "execution_count": 11,
   "id": "b8c642f1",
   "metadata": {},
   "outputs": [],
   "source": [
    "# import cmapy\n",
    "# import random\n",
    "# rgb_color = cmapy.color('viridis', random.randrange(0, 256), rgb_order=True)\n",
    "# print(rgb_color)"
   ]
  },
  {
   "cell_type": "code",
   "execution_count": 38,
   "id": "dcd2c9b1",
   "metadata": {},
   "outputs": [],
   "source": [
    "from random import randint\n",
    "color = []\n",
    "\n",
    "# for i in range(len(X)):\n",
    "#     color.append('#%06X' % randint(0, 0xFFFFFF))\n",
    "\n",
    "# print(color)"
   ]
  },
  {
   "cell_type": "markdown",
   "id": "f140f2fd",
   "metadata": {},
   "source": [
    "# Dimension reduction"
   ]
  },
  {
   "cell_type": "code",
   "execution_count": 13,
   "id": "f8338f9b",
   "metadata": {},
   "outputs": [],
   "source": [
    "# # compute the first four principal components and plot their pairwise relationships\n",
    "# X_pca = PCA(4).fit_transform(X)\n",
    "# print(X_pca)\n",
    "# X_pca.shape"
   ]
  },
  {
   "cell_type": "markdown",
   "id": "9f134ed0",
   "metadata": {},
   "source": [
    "### Initialize Geometry class"
   ]
  },
  {
   "cell_type": "code",
   "execution_count": 14,
   "id": "e7301b66",
   "metadata": {},
   "outputs": [],
   "source": [
    "radius = 1.0\n",
    "adjacency_method = 'cyflann'\n",
    "adjacency_kwds = {'radius':radius} # ignore distances above this radius\n",
    "affinity_method = 'gaussian'\n",
    "affinity_kwds = {'radius':radius} # A = exp(-||x - y||/radius^2) \n",
    "laplacian_method = 'geometric'\n",
    "laplacian_kwds = {'scaling_epps':radius} # scaling ensures convergence to Laplace-Beltrami operator\n",
    "\n",
    "geom = Geometry(adjacency_method=adjacency_method, adjacency_kwds=adjacency_kwds,\n",
    "                affinity_method=affinity_method, affinity_kwds=affinity_kwds,\n",
    "                laplacian_method=laplacian_method, laplacian_kwds=laplacian_kwds)"
   ]
  },
  {
   "cell_type": "markdown",
   "id": "83eead25",
   "metadata": {},
   "source": [
    "### Inputing Data to Geometry\n",
    "\n",
    "- set_data_matrix(): input an (n_observation X n_dimensions) array of data points\n",
    "- set_adjacency_matrix(): input an (n_observation X n_observation) pairwise (sparse) matrix indicating neighborhoods distances. This matrix should be sparse with zero entries considered Infinite. The diagonal is considered explicitly zero when calculating an affinity matrix.\n",
    "- set_affinity_matrix(): input an (n_observation X n_observation) pairwise (sparse) indicating similarity between points. High values indicate strong degree of similarity, the diagonal should take on the maximum value in its row."
   ]
  },
  {
   "cell_type": "code",
   "execution_count": 15,
   "id": "8081d8bc",
   "metadata": {},
   "outputs": [],
   "source": [
    "geom.set_data_matrix(X)"
   ]
  },
  {
   "cell_type": "markdown",
   "id": "0d866cd4",
   "metadata": {},
   "source": [
    "### Computing geometric matrices"
   ]
  },
  {
   "cell_type": "code",
   "execution_count": 16,
   "id": "f24c1a3e",
   "metadata": {},
   "outputs": [
    {
     "name": "stdout",
     "output_type": "stream",
     "text": [
      "  (0, 0)\t0.0\n",
      "  (0, 335)\t0.15449844\n",
      "  (0, 145)\t0.19896701\n",
      "  (0, 192)\t0.20269042\n",
      "  (0, 49)\t0.20674945\n",
      "  (0, 48)\t0.20756668\n",
      "  (0, 286)\t0.21047682\n",
      "  (0, 47)\t0.21640538\n",
      "  (0, 1)\t0.219312\n",
      "  (0, 191)\t0.22087647\n",
      "  (0, 242)\t0.22157508\n",
      "  (0, 96)\t0.240004\n",
      "  (0, 287)\t0.24942534\n",
      "  (0, 334)\t0.2529784\n",
      "  (0, 193)\t0.2585524\n",
      "  (0, 144)\t0.25997645\n",
      "  (0, 241)\t0.26652238\n",
      "  (0, 285)\t0.27492413\n",
      "  (0, 146)\t0.2874484\n",
      "  (0, 95)\t0.29299498\n",
      "  (0, 240)\t0.29358777\n",
      "  (0, 143)\t0.2972927\n",
      "  (0, 288)\t0.30367672\n",
      "  (0, 333)\t0.30562168\n",
      "  (0, 97)\t0.3106605\n",
      "  :\t:\n",
      "  (335, 145)\t0.24624573\n",
      "  (335, 1)\t0.24842554\n",
      "  (335, 333)\t0.248674\n",
      "  (335, 144)\t0.2503023\n",
      "  (335, 241)\t0.2525589\n",
      "  (335, 240)\t0.2581454\n",
      "  (335, 95)\t0.2582639\n",
      "  (335, 287)\t0.2600911\n",
      "  (335, 193)\t0.26226318\n",
      "  (335, 285)\t0.26918763\n",
      "  (335, 242)\t0.27002493\n",
      "  (335, 143)\t0.28441265\n",
      "  (335, 46)\t0.29343936\n",
      "  (335, 142)\t0.3024418\n",
      "  (335, 190)\t0.31574753\n",
      "  (335, 288)\t0.32165632\n",
      "  (335, 97)\t0.3289244\n",
      "  (335, 146)\t0.33040205\n",
      "  (335, 239)\t0.34207758\n",
      "  (335, 94)\t0.3438266\n",
      "  (335, 189)\t0.35710025\n",
      "  (335, 289)\t0.3601524\n",
      "  (335, 45)\t0.38604042\n",
      "  (335, 141)\t0.39665124\n",
      "  (335, 188)\t0.45314777\n"
     ]
    }
   ],
   "source": [
    "adjacency_matrix = geom.compute_adjacency_matrix()\n",
    "print(adjacency_matrix)"
   ]
  },
  {
   "cell_type": "code",
   "execution_count": 22,
   "id": "03a3e356",
   "metadata": {},
   "outputs": [
    {
     "name": "stdout",
     "output_type": "stream",
     "text": [
      "1\n"
     ]
    }
   ],
   "source": [
    "# Radius selection\n",
    "from scipy.sparse.csgraph import connected_components\n",
    "\n",
    "rad1 = 0.3 # choose a small radius to start, but result in a fully connected graph\n",
    "# compute an adjacency matrix with a radius\n",
    "geom.adjacency_kwds = {'radius':rad1}\n",
    "adjacency_matrix = geom.compute_adjacency_matrix()\n",
    "# compute the corresponding affinity matrix\n",
    "geom.affinity_kwds = {'radius':rad1}\n",
    "affinity_matrix = geom.compute_affinity_matrix({'radius':rad1})\n",
    "(number_connected_components, labels) = connected_components(affinity_matrix)\n",
    "print(number_connected_components) # 1 means fully connected graph"
   ]
  },
  {
   "cell_type": "markdown",
   "id": "949e669d",
   "metadata": {},
   "source": [
    "### Embedding\n",
    "\n",
    "The Isomap class functions as follows:\n",
    "\n",
    "- An existing Geometry object can be passed to .Isomap().\n",
    " \n",
    "- The .fit() method creates a Geometry object if one was not already passed and then calculates th embedding. \n",
    "    \n",
    "    The number of components and eigen solver can also be passed to the .fit() function. The .fit() function for Isomap  does not return anything but it does create the attribute self.embedding_. \n",
    "\n",
    "- The .fit_transform() function calls the fit() function and returns the embedding. It does not allow for changing parameters."
   ]
  },
  {
   "cell_type": "code",
   "execution_count": 23,
   "id": "56ab757f",
   "metadata": {},
   "outputs": [],
   "source": [
    "# select output dimension\n",
    "n_components = 2"
   ]
  },
  {
   "cell_type": "code",
   "execution_count": 61,
   "id": "a5b23a62",
   "metadata": {},
   "outputs": [
    {
     "name": "stderr",
     "output_type": "stream",
     "text": [
      "/Users/fche0019/miniconda3/envs/manifold_env/lib/python3.5/site-packages/sklearn/utils/validation.py:457: DeprecationWarning: Passing 'None' to parameter 'accept_sparse' in methods check_array and check_X_y is deprecated in version 0.19 and will be removed in 0.21. Use 'accept_sparse=False'  instead.\n",
      "  \" instead.\", DeprecationWarning)\n",
      "/Users/fche0019/miniconda3/envs/manifold_env/lib/python3.5/site-packages/sklearn/utils/validation.py:457: DeprecationWarning: Passing 'None' to parameter 'accept_sparse' in methods check_array and check_X_y is deprecated in version 0.19 and will be removed in 0.21. Use 'accept_sparse=False'  instead.\n",
      "  \" instead.\", DeprecationWarning)\n",
      "/Users/fche0019/miniconda3/envs/manifold_env/lib/python3.5/site-packages/sklearn/utils/validation.py:457: DeprecationWarning: Passing 'None' to parameter 'accept_sparse' in methods check_array and check_X_y is deprecated in version 0.19 and will be removed in 0.21. Use 'accept_sparse=False'  instead.\n",
      "  \" instead.\", DeprecationWarning)\n",
      "/Users/fche0019/miniconda3/envs/manifold_env/lib/python3.5/site-packages/sklearn/utils/validation.py:457: DeprecationWarning: Passing 'None' to parameter 'accept_sparse' in methods check_array and check_X_y is deprecated in version 0.19 and will be removed in 0.21. Use 'accept_sparse=False'  instead.\n",
      "  \" instead.\", DeprecationWarning)\n"
     ]
    }
   ],
   "source": [
    "# four embedding methods\n",
    "isomap = Isomap(n_components=n_components, eigen_solver='arpack',geom=geom)\n",
    "embed_isomap = isomap.fit_transform(X)\n",
    "\n",
    "lle = LocallyLinearEmbedding(n_components=n_components, eigen_solver='arpack',geom=geom)\n",
    "embed_lle = lle.fit_transform(X)\n",
    "\n",
    "ltsa = LTSA(n_components=n_components,eigen_solver='arpack',geom=geom)\n",
    "embed_ltsa = ltsa.fit_transform(X)\n",
    "\n",
    "spectral = SpectralEmbedding(n_components=3, eigen_solver='amg',geom=geom, drop_first=False) # use 3 for spectral\n",
    "embed_spectral = spectral.fit_transform(X)"
   ]
  },
  {
   "cell_type": "code",
   "execution_count": 25,
   "id": "ba96f32d",
   "metadata": {
    "scrolled": true
   },
   "outputs": [
    {
     "name": "stdout",
     "output_type": "stream",
     "text": [
      "[[-0.22229071 -0.61008798]\n",
      " [-0.0158683  -0.64846237]\n",
      " [ 0.18525083 -0.56180985]\n",
      " [ 0.32005857 -0.41022242]\n",
      " [ 0.40631802 -0.34619708]\n",
      " [ 0.43420225 -0.36141807]\n",
      " [ 0.53267716 -0.38988154]\n",
      " [ 0.56533209 -0.38916153]\n",
      " [ 0.43524558 -0.34962797]\n",
      " [ 0.44141832 -0.30976021]\n",
      " [ 0.47606238 -0.27034723]\n",
      " [ 0.54347214 -0.28180666]\n",
      " [ 0.5194629  -0.31102528]\n",
      " [ 0.44008798 -0.23850494]\n",
      " [ 0.25323697 -0.12700851]\n",
      " [ 0.03769062 -0.14323638]\n",
      " [ 0.08315724  0.05576059]\n",
      " [ 0.07092779  0.20324765]\n",
      " [ 0.3282702   0.1849059 ]\n",
      " [ 0.34550623  0.11995241]\n",
      " [ 0.35339593  0.0452889 ]\n",
      " [ 0.32754827  0.10503314]\n",
      " [ 0.3318355   0.12500418]\n",
      " [ 0.29846629  0.27219308]\n",
      " [ 0.33365545  0.43073493]\n",
      " [ 0.38838887  0.53652028]\n",
      " [ 0.2567666   0.56366149]\n",
      " [ 0.37172168  0.52965051]\n",
      " [ 0.31509168  0.47335638]\n",
      " [ 0.29591571  0.28392903]\n",
      " [ 0.34296632  0.08754363]\n",
      " [ 0.29540726 -0.03442028]\n",
      " [ 0.23328464  0.26436132]\n",
      " [ 0.16717751  0.36095453]\n",
      " [-0.20388276  0.83462166]\n",
      " [-0.5516206   0.84907107]\n",
      " [-0.7788072   0.89661219]\n",
      " [-1.10626958  0.76938325]\n",
      " [-1.321231    0.33455014]\n",
      " [-1.22766249 -0.01270598]\n",
      " [-1.18896181 -0.27654391]\n",
      " [-1.13190894 -0.30055347]\n",
      " [-1.03098292 -0.37978082]\n",
      " [-1.01129801 -0.42286084]\n",
      " [-0.84289399 -0.42120879]\n",
      " [-0.75430129 -0.41157411]\n",
      " [-0.52104331 -0.44279796]\n",
      " [-0.23584767 -0.38830646]\n",
      " [-0.14496734 -0.43751247]\n",
      " [-0.11284155 -0.63229527]\n",
      " [ 0.07054897 -0.58825719]\n",
      " [ 0.26282638 -0.51123739]\n",
      " [ 0.52737335 -0.40898764]\n",
      " [ 0.64790577 -0.37471142]\n",
      " [ 0.66535966 -0.36507475]\n",
      " [ 0.6757077  -0.37214491]\n",
      " [ 0.47983618 -0.36243986]\n",
      " [ 0.40971137 -0.38243821]\n",
      " [ 0.45289459 -0.33720992]\n",
      " [ 0.58612061 -0.25334841]\n",
      " [ 0.58520187 -0.17642435]\n",
      " [ 0.54050072 -0.25990123]\n",
      " [ 0.31560245 -0.18401402]\n",
      " [ 0.16565773 -0.04033974]\n",
      " [ 0.12126184  0.00668573]\n",
      " [ 0.12361543  0.0613924 ]\n",
      " [ 0.3622369   0.09958611]\n",
      " [ 0.54032149  0.11590269]\n",
      " [ 0.57548197  0.13724003]\n",
      " [ 0.55567814  0.15611164]\n",
      " [ 0.49866535  0.30132429]\n",
      " [ 0.48967906  0.41024598]\n",
      " [ 0.46773792  0.52645034]\n",
      " [ 0.28640147  0.56483419]\n",
      " [ 0.27984285  0.52571814]\n",
      " [ 0.27532587  0.49045693]\n",
      " [ 0.31337464  0.28911079]\n",
      " [ 0.31932815  0.24256951]\n",
      " [ 0.34939624  0.1083581 ]\n",
      " [ 0.33604667  0.13374676]\n",
      " [ 0.31753606  0.23834021]\n",
      " [ 0.22787299  0.39351214]\n",
      " [-0.29860603  0.77766323]\n",
      " [-0.61719314  0.81480791]\n",
      " [-0.84982669  0.80745894]\n",
      " [-1.0319785   0.66643125]\n",
      " [-1.21071578  0.22860524]\n",
      " [-1.17477355 -0.2345342 ]\n",
      " [-1.14354897 -0.35489593]\n",
      " [-1.07776715 -0.42986414]\n",
      " [-1.03104471 -0.3460027 ]\n",
      " [-1.01507555 -0.34906655]\n",
      " [-0.97818096 -0.34948506]\n",
      " [-0.82606264 -0.42273727]\n",
      " [-0.67966355 -0.50743897]\n",
      " [-0.42408    -0.45932011]\n",
      " [-0.25459721 -0.59314613]\n",
      " [-0.00200926 -0.63715853]\n",
      " [ 0.22307364 -0.51785597]\n",
      " [ 0.30125963 -0.60369451]\n",
      " [ 0.48196946 -0.41521034]\n",
      " [ 0.52718555 -0.32788668]\n",
      " [ 0.56821111 -0.29444727]\n",
      " [ 0.57203906 -0.32402587]\n",
      " [ 0.46292756 -0.36653499]\n",
      " [ 0.35822003 -0.38527846]\n",
      " [ 0.41092074 -0.36659422]\n",
      " [ 0.52821953 -0.33067381]\n",
      " [ 0.58319986 -0.19206062]\n",
      " [ 0.43698415 -0.08507725]\n",
      " [ 0.22541947 -0.08259079]\n",
      " [ 0.00275827 -0.13287894]\n",
      " [-0.04970103 -0.14710611]\n",
      " [ 0.15791142 -0.00338821]\n",
      " [ 0.33804137  0.16642982]\n",
      " [ 0.53552414  0.11625711]\n",
      " [ 0.54298735  0.05492391]\n",
      " [ 0.47953081  0.24440669]\n",
      " [ 0.38842363  0.3606961 ]\n",
      " [ 0.40568731  0.44682689]\n",
      " [ 0.4047831   0.43599759]\n",
      " [ 0.44146217  0.4331754 ]\n",
      " [ 0.43597641  0.51235025]\n",
      " [ 0.39570804  0.47518627]\n",
      " [ 0.34046845  0.4277677 ]\n",
      " [ 0.33132788  0.34325491]\n",
      " [ 0.30451509  0.16665376]\n",
      " [ 0.30387146  0.16167171]\n",
      " [ 0.28588142  0.44421172]\n",
      " [ 0.08790987  0.45434819]\n",
      " [-0.15450763  0.6275842 ]\n",
      " [-0.40645319  0.70919202]\n",
      " [-0.74314798  0.74285908]\n",
      " [-1.07480582  0.61214223]\n",
      " [-1.27561865  0.23849349]\n",
      " [-1.28309145 -0.10342097]\n",
      " [-1.1683427  -0.36285507]\n",
      " [-1.0800732  -0.31251488]\n",
      " [-1.05524685 -0.36298226]\n",
      " [-1.05841212 -0.37429856]\n",
      " [-0.99487953 -0.34301538]\n",
      " [-0.76203836 -0.4088717 ]\n",
      " [-0.53122419 -0.47705416]\n",
      " [-0.34823354 -0.57216441]\n",
      " [-0.27328972 -0.59359202]\n",
      " [-0.19692361 -0.59555564]\n",
      " [-0.04134821 -0.64833088]\n",
      " [ 0.20528601 -0.60179183]\n",
      " [ 0.41266689 -0.41679802]\n",
      " [ 0.51043282 -0.36061156]\n",
      " [ 0.55044294 -0.33557896]\n",
      " [ 0.62310981 -0.37713567]\n",
      " [ 0.44531391 -0.34201669]\n",
      " [ 0.42493527 -0.36764601]\n",
      " [ 0.49030926 -0.30385492]\n",
      " [ 0.57359877 -0.14892158]\n",
      " [ 0.51609676 -0.00378694]\n",
      " [ 0.40597943 -0.00461316]\n",
      " [ 0.27089125 -0.05525295]\n",
      " [ 0.17515416 -0.01300703]\n",
      " [ 0.13351029  0.05697024]\n",
      " [ 0.09811115  0.17212305]\n",
      " [ 0.356771    0.08958551]\n",
      " [ 0.52663274  0.10559685]\n",
      " [ 0.56064977  0.10191424]\n",
      " [ 0.40807338  0.07755298]\n",
      " [ 0.38495478  0.04992143]\n",
      " [ 0.46150422  0.35526652]\n",
      " [ 0.44608443  0.46899746]\n",
      " [ 0.40827127  0.52566356]\n",
      " [ 0.28564167  0.55114262]\n",
      " [ 0.18647887  0.37097474]\n",
      " [ 0.17810245  0.34525192]\n",
      " [ 0.2432766   0.36637069]\n",
      " [ 0.35884704  0.40360596]\n",
      " [ 0.40651536  0.42749912]\n",
      " [ 0.38592729  0.43116559]\n",
      " [ 0.31195229  0.51080308]\n",
      " [-0.06292447  0.69009591]\n",
      " [-0.43894512  0.82073935]\n",
      " [-0.79435368  0.84304455]\n",
      " [-1.11154945  0.74676016]\n",
      " [-1.27166829  0.36074536]\n",
      " [-1.28136507 -0.17096997]\n",
      " [-1.21252166 -0.30176342]\n",
      " [-1.20621113 -0.29837203]\n",
      " [-1.15689915 -0.31475612]\n",
      " [-1.16316542 -0.26465652]\n",
      " [-0.8198991  -0.42801039]\n",
      " [-0.69386064 -0.44636363]\n",
      " [-0.50991059 -0.47520696]\n",
      " [-0.38167485 -0.46010194]\n",
      " [-0.25624981 -0.59543598]\n",
      " [-0.0263979  -0.64051401]\n",
      " [ 0.150528   -0.64240541]\n",
      " [ 0.25529284 -0.55000389]\n",
      " [ 0.51058802 -0.4000525 ]\n",
      " [ 0.64655839 -0.37668013]\n",
      " [ 0.70838209 -0.3809441 ]\n",
      " [ 0.71111191 -0.37503223]\n",
      " [ 0.4680562  -0.36407727]\n",
      " [ 0.41624436 -0.36621533]\n",
      " [ 0.42783957 -0.33656743]\n",
      " [ 0.49280764 -0.34465085]\n",
      " [ 0.53250217 -0.34397565]\n",
      " [ 0.3461366  -0.28328617]\n",
      " [ 0.23339353 -0.18210773]\n",
      " [ 0.00958119 -0.17105493]\n",
      " [ 0.11807981 -0.01116804]\n",
      " [ 0.12669059  0.16716413]\n",
      " [ 0.49528231  0.2010629 ]\n",
      " [ 0.56616353  0.18889112]\n",
      " [ 0.57046984  0.26487056]\n",
      " [ 0.53979967  0.40639348]\n",
      " [ 0.47597952  0.30865198]\n",
      " [ 0.46661102  0.35271703]\n",
      " [ 0.52706779  0.51516146]\n",
      " [ 0.49928531  0.59951464]\n",
      " [ 0.41926351  0.65319188]\n",
      " [ 0.38196903  0.54130549]\n",
      " [ 0.3289234   0.46978547]\n",
      " [ 0.35886789  0.37422443]\n",
      " [ 0.34686082  0.08543103]\n",
      " [ 0.29221257  0.10355801]\n",
      " [ 0.25626355  0.20930624]\n",
      " [ 0.18827506  0.37140757]\n",
      " [-0.01371989  0.65132963]\n",
      " [-0.27510796  0.76336578]\n",
      " [-0.5139063   0.81664335]\n",
      " [-0.82692912  0.74907481]\n",
      " [-1.17061122  0.45933303]\n",
      " [-1.15554068  0.01606989]\n",
      " [-1.16652873 -0.11839573]\n",
      " [-1.00090951 -0.35220277]\n",
      " [-0.96956235 -0.43293153]\n",
      " [-0.99215184 -0.45574166]\n",
      " [-1.04030229 -0.50093493]\n",
      " [-0.98609213 -0.47643194]\n",
      " [-0.81163799 -0.42132296]\n",
      " [-0.65400444 -0.4246323 ]\n",
      " [-0.40227501 -0.43272982]\n",
      " [-0.18260602 -0.37452655]\n",
      " [-0.04187573 -0.61555569]\n",
      " [ 0.1626146  -0.65029163]\n",
      " [ 0.24438646 -0.58672291]\n",
      " [ 0.56096949 -0.48487731]\n",
      " [ 0.66507514 -0.40953666]\n",
      " [ 0.67206949 -0.38430362]\n",
      " [ 0.6753643  -0.36861443]\n",
      " [ 0.65483977 -0.34789577]\n",
      " [ 0.64972792 -0.35084122]\n",
      " [ 0.62473875 -0.3209027 ]\n",
      " [ 0.53592926 -0.27877785]\n",
      " [ 0.39369639 -0.19098038]\n",
      " [ 0.23094552 -0.13093775]\n",
      " [ 0.03651346 -0.16096678]\n",
      " [ 0.00407456 -0.18020993]\n",
      " [ 0.1565582  -0.00894613]\n",
      " [ 0.39834312  0.32189793]\n",
      " [ 0.43133425  0.36338455]\n",
      " [ 0.36478499  0.17660229]\n",
      " [ 0.32460174  0.17071933]\n",
      " [ 0.26908113  0.29660729]\n",
      " [ 0.19595179  0.39876339]\n",
      " [ 0.23470819  0.38984273]\n",
      " [ 0.26856946  0.36555471]\n",
      " [ 0.33880973  0.42851985]\n",
      " [ 0.3547684   0.45150262]\n",
      " [ 0.28607053  0.30085023]\n",
      " [ 0.28014425  0.27416696]\n",
      " [ 0.22452687  0.29269984]\n",
      " [ 0.18253567  0.38648463]\n",
      " [ 0.03841194  0.52208733]\n",
      " [-0.24956434  0.6727085 ]\n",
      " [-0.50400506  0.86170909]\n",
      " [-0.72852355  0.78554698]\n",
      " [-0.73376816  0.75853574]\n",
      " [-1.05724541  0.60476707]\n",
      " [-1.12142748  0.54222753]\n",
      " [-1.23657425  0.32571606]\n",
      " [-1.17972774  0.12707979]\n",
      " [-1.19864203  0.05172169]\n",
      " [-1.21609854 -0.20206558]\n",
      " [-1.02296534 -0.33747415]\n",
      " [-0.78140899 -0.46700985]\n",
      " [-0.44834735 -0.48622591]\n",
      " [-0.29312441 -0.58709321]\n",
      " [-0.09083352 -0.65672521]\n",
      " [ 0.02219685 -0.66698003]\n",
      " [ 0.13612396 -0.66936816]\n",
      " [ 0.20961088 -0.5969453 ]\n",
      " [ 0.2520119  -0.56667301]\n",
      " [ 0.32424984 -0.59325241]\n",
      " [ 0.50353121 -0.36054988]\n",
      " [ 0.59015452 -0.37498353]\n",
      " [ 0.71274647 -0.37526142]\n",
      " [ 0.71860439 -0.37253462]\n",
      " [ 0.72901488 -0.36752612]\n",
      " [ 0.74146631 -0.35963896]\n",
      " [ 0.72960712 -0.3581086 ]\n",
      " [ 0.65958113 -0.3553916 ]\n",
      " [ 0.54532075 -0.26494163]\n",
      " [ 0.39578276 -0.1557115 ]\n",
      " [ 0.21240871 -0.1022396 ]\n",
      " [ 0.14145197  0.00384356]\n",
      " [ 0.09470294  0.07443364]\n",
      " [ 0.11536249  0.27743924]\n",
      " [ 0.32143139  0.27257813]\n",
      " [ 0.3166644   0.28227658]\n",
      " [ 0.33665698  0.26648004]\n",
      " [ 0.36697758  0.42283523]\n",
      " [ 0.42416029  0.39705602]\n",
      " [ 0.51355174  0.50765743]\n",
      " [ 0.52242488  0.50004101]\n",
      " [ 0.51693608  0.50279179]\n",
      " [ 0.48642891  0.38438895]\n",
      " [ 0.4631031   0.31789823]\n",
      " [ 0.52582779  0.39161935]\n",
      " [ 0.53294234  0.41051516]\n",
      " [ 0.52075069  0.43229031]\n",
      " [ 0.28814252  0.54090321]\n",
      " [ 0.19251904  0.66338822]\n",
      " [-0.07701945  0.83915119]\n",
      " [-0.38557823  0.95902397]\n",
      " [-0.56256003  0.90681394]\n",
      " [-0.97555332  0.80719376]\n",
      " [-1.29607131  0.54388455]\n",
      " [-1.24477165  0.36542033]\n",
      " [-1.21564665  0.0161837 ]\n",
      " [-1.14798775 -0.27043249]\n",
      " [-1.05639365 -0.41518028]\n",
      " [-0.85266043 -0.44164717]\n",
      " [-0.76413358 -0.44148178]\n",
      " [-0.48082528 -0.45833585]\n",
      " [-0.34906513 -0.5388837 ]\n",
      " [-0.27562804 -0.59584894]]\n"
     ]
    }
   ],
   "source": [
    "print(embed_isomap)"
   ]
  },
  {
   "cell_type": "markdown",
   "id": "e09b914e",
   "metadata": {},
   "source": [
    "## Save embedding output as .npy or dataframe as .feather"
   ]
  },
  {
   "cell_type": "code",
   "execution_count": 57,
   "id": "cc64d8cf",
   "metadata": {},
   "outputs": [],
   "source": [
    "emb_isomap = pd.DataFrame(embed_isomap)\n",
    "emb_lle = pd.DataFrame(embed_lle)\n",
    "emb_ltsa = pd.DataFrame(embed_ltsa)\n",
    "emb_spectral = pd.DataFrame(embed_spectral)\n",
    "feather.write_dataframe(emb_isomap, \"data/embedding_isomap_1id336tow.feather\")\n",
    "feather.write_dataframe(emb_lle, \"data/embedding_lle_1id336tow.feather\")\n",
    "feather.write_dataframe(emb_ltsa, \"data/embedding_ltsa_1id336tow.feather\")\n",
    "feather.write_dataframe(emb_spectral, \"data/embedding_spectral_1id336tow.feather\")"
   ]
  },
  {
   "cell_type": "code",
   "execution_count": 53,
   "id": "fbf264e1",
   "metadata": {},
   "outputs": [],
   "source": [
    "np.save(\"data/embedding_isomap_1id336tow.npy\", emb_isomap)\n",
    "np.save(\"data/embedding_lle_1id336tow.npy\", embed_lle)\n",
    "np.save(\"data/embedding_ltsa_1id336tow.npy\", embed_ltsa)\n",
    "np.save(\"data/embedding_spectral_1id336tow.npy\", embed_spectral)"
   ]
  },
  {
   "cell_type": "markdown",
   "id": "53deee22",
   "metadata": {},
   "source": [
    "### Embedding 2-D plots"
   ]
  },
  {
   "cell_type": "code",
   "execution_count": 60,
   "id": "9c06bf08",
   "metadata": {},
   "outputs": [
    {
     "data": {
      "image/png": "[encoded data removed]",
      "text/plain": [
       "<Figure size 432x288 with 4 Axes>"
      ]
     },
     "metadata": {
      "needs_background": "light"
     },
     "output_type": "display_data"
    }
   ],
   "source": [
    "fig, axes = plt.subplots(nrows=2, ncols=2)\n",
    "color = \"black\"\n",
    "axes[0, 0].scatter(embed_ltsa[:, 0], embed_ltsa[:, 1], s=1, c=color)\n",
    "axes[0, 0].set_title('LTSA')\n",
    "axes[0, 1].scatter(embed_lle[:, 0], embed_lle[:, 1], s=1, c=color)\n",
    "axes[0, 1].set_title('LLE')\n",
    "axes[1, 0].scatter(embed_isomap[:, 0], embed_isomap[:, 1], s=1, c=color)\n",
    "axes[1, 0].set_title('Isomap')\n",
    "axes[1, 1].scatter(embed_spectral[:, 0], embed_spectral[:, 1], s=1, c=color)\n",
    "axes[1, 1].set_title('Spectral Embedding')\n",
    "plt.show()"
   ]
  },
  {
   "cell_type": "markdown",
   "id": "27f42ad8",
   "metadata": {},
   "source": [
    "# Riemannian metric\n",
    "\n",
    "To compute a R. Metric you will need an embedding and a Laplacian.\n",
    "\n",
    "If you plan to estimate the Riemannian Metric then when you compute the Laplacian for best results you should use **laplacian_method = 'geometric'** and set the keyword parameter 'scaling_epps' to the 'radius' that was used in the affinity method."
   ]
  },
  {
   "cell_type": "code",
   "execution_count": 62,
   "id": "22df5a17",
   "metadata": {},
   "outputs": [],
   "source": [
    "geom.laplacian_method = 'geometric'\n",
    "geom.laplacian_kwds = {'scaling_epps':radius} # scaling ensures convergence to Laplace-Beltrami operator\n",
    "laplacian_matrix = geom.compute_laplacian_matrix()"
   ]
  },
  {
   "cell_type": "markdown",
   "id": "61f2c11f",
   "metadata": {},
   "source": [
    "**The `H` matrix is the inverse of the Riemmanian matrix `R`**, both matrix has the dimension of N\\*d\\*d, where `N` is the `len(X)` and `d` is the embedding dimension. "
   ]
  },
  {
   "cell_type": "code",
   "execution_count": 63,
   "id": "0d7c3613",
   "metadata": {},
   "outputs": [],
   "source": [
    "# Estimate Riemannian metric for all four methods\n",
    "# from megaman.geometry.rmetric import RiemannMetric\n",
    "\n",
    "rmetric_spectral = RiemannMetric(embed_spectral, geom.laplacian_matrix)\n",
    "H_spectral = rmetric_spectral.get_dual_rmetric()\n",
    "\n",
    "rmetric_ltsa = RiemannMetric(embed_ltsa, geom.laplacian_matrix)\n",
    "H_ltsa = rmetric_ltsa.get_dual_rmetric()\n",
    "\n",
    "rmetric_lle = RiemannMetric(embed_lle, geom.laplacian_matrix)\n",
    "H_lle = rmetric_lle.get_dual_rmetric()\n",
    "\n",
    "rmetric_isomap = RiemannMetric(embed_isomap, geom.laplacian_matrix)\n",
    "H_isomap = rmetric_isomap.get_dual_rmetric()"
   ]
  },
  {
   "cell_type": "code",
   "execution_count": 64,
   "id": "cb602272",
   "metadata": {},
   "outputs": [
    {
     "name": "stdout",
     "output_type": "stream",
     "text": [
      "2\n"
     ]
    }
   ],
   "source": [
    "# The dimension of the array is N*d*d, where d is the embedding dimension\n",
    "print(rmetric_isomap.get_mdimG())"
   ]
  },
  {
   "cell_type": "code",
   "execution_count": 65,
   "id": "678223e3",
   "metadata": {},
   "outputs": [
    {
     "name": "stdout",
     "output_type": "stream",
     "text": [
      "[[[ 0.03155673 -0.01044955]\n",
      "  [-0.01044955  0.02179563]]\n",
      "\n",
      " [[ 0.0557418  -0.00715432]\n",
      "  [-0.00715432  0.01646675]]\n",
      "\n",
      " [[ 0.04074376  0.02116083]\n",
      "  [ 0.02116083  0.01803424]]\n",
      "\n",
      " [[ 0.03047687  0.02643391]\n",
      "  [ 0.02643391  0.0417707 ]]\n",
      "\n",
      " [[ 0.02382026  0.01389636]\n",
      "  [ 0.01389636  0.02651666]]]\n"
     ]
    }
   ],
   "source": [
    "print(H_isomap[:5, :]) # N*2*2 array"
   ]
  },
  {
   "cell_type": "code",
   "execution_count": 66,
   "id": "117190c2",
   "metadata": {},
   "outputs": [
    {
     "data": {
      "text/plain": [
       "array([[[ 37.66922859,  18.05988027],\n",
       "        [ 18.05988027,  54.53926114]],\n",
       "\n",
       "       [[ 18.99932331,   8.25464917],\n",
       "        [  8.25464917,  64.31483996]],\n",
       "\n",
       "       [[ 62.83663239, -73.7306022 ],\n",
       "        [-73.7306022 , 141.96334032]]])"
      ]
     },
     "execution_count": 66,
     "metadata": {},
     "output_type": "execute_result"
    }
   ],
   "source": [
    "R_isomap = rmetric_isomap.get_rmetric() # N*2*2 array\n",
    "R_isomap[:3, :]"
   ]
  },
  {
   "cell_type": "code",
   "execution_count": 67,
   "id": "27dc2221",
   "metadata": {},
   "outputs": [
    {
     "name": "stdout",
     "output_type": "stream",
     "text": [
      "[[[ 37.66922859  18.05988027]\n",
      "  [ 18.05988027  54.53926114]]\n",
      "\n",
      " [[ 18.99932331   8.25464917]\n",
      "  [  8.25464917  64.31483996]]\n",
      "\n",
      " [[ 62.83663239 -73.7306022 ]\n",
      "  [-73.7306022  141.96334032]]]\n"
     ]
    },
    {
     "data": {
      "text/plain": [
       "False"
      ]
     },
     "execution_count": 67,
     "metadata": {},
     "output_type": "execute_result"
    }
   ],
   "source": [
    "H_inverse = np.linalg.inv(H_isomap)\n",
    "print(H_inverse[:3, :])\n",
    "np.array_equal(H_inverse, R_isomap)"
   ]
  },
  {
   "cell_type": "markdown",
   "id": "d79e6981",
   "metadata": {},
   "source": [
    "## Export the inverse of Riemannian matrix, H matrix\n",
    "\n",
    "The Numpy binary .npy can then be read in R using the `reticulate` package. "
   ]
  },
  {
   "cell_type": "code",
   "execution_count": 68,
   "id": "aa6345fc",
   "metadata": {},
   "outputs": [],
   "source": [
    "np.save(\"data/hmatrix_isomap_1id336tow.npy\", H_isomap)\n",
    "np.save(\"data/hmatrix_lle_1id336tow.npy\", H_lle)\n",
    "np.save(\"data/hmatrix_ltsa_1id336tow.npy\", H_ltsa)\n",
    "np.save(\"data/hmatrix_spectral_1id336tow.npy\", H_spectral)"
   ]
  },
  {
   "cell_type": "markdown",
   "id": "c5248f71",
   "metadata": {},
   "source": [
    "## Plot distortion\n",
    "\n",
    "Use the *cover_plotter* module included in megaman to plot a subset of the points as ellipses representing the distortion"
   ]
  },
  {
   "cell_type": "code",
   "execution_count": 33,
   "id": "2334f7ed",
   "metadata": {
    "scrolled": false
   },
   "outputs": [],
   "source": [
    "# from megaman.utils.covar_plotter import plot_cov_ellipse\n",
    "n_plot = 10 # number of ellipse to be plotted\n",
    "rng = np.random.RandomState(8675309)\n",
    "sample_points = rng.choice(range(N), n_plot, replace = False)"
   ]
  },
  {
   "cell_type": "code",
   "execution_count": 41,
   "id": "4935bdbf",
   "metadata": {},
   "outputs": [
    {
     "data": {
      "image/png": "[encoded data removed]",
      "text/plain": [
       "<Figure size 432x288 with 1 Axes>"
      ]
     },
     "metadata": {
      "needs_background": "light"
     },
     "output_type": "display_data"
    }
   ],
   "source": [
    "# Isomap\n",
    "f, ax = plt.subplots()\n",
    "ax.scatter(embed_isomap[:, 0], embed_isomap[:, 1], s = 1)\n",
    "ax.set_aspect('equal') # if an ellipse is a circle no distortion occured. \n",
    "for i in range(n_plot):\n",
    "    ii = sample_points[i]\n",
    "    cov = H_isomap[ii, :, :]\n",
    "    plot_cov_ellipse(cov*0.01, embed_isomap[ii, :] ,ax=ax, edgecolor='none', alpha = 0.5) # tune cov*0.1 to change the ellipse size\n",
    "plt.show()"
   ]
  },
  {
   "cell_type": "code",
   "execution_count": 42,
   "id": "845917ef",
   "metadata": {},
   "outputs": [
    {
     "data": {
      "image/png": "[encoded data removed]",
      "text/plain": [
       "<Figure size 432x288 with 1 Axes>"
      ]
     },
     "metadata": {
      "needs_background": "light"
     },
     "output_type": "display_data"
    }
   ],
   "source": [
    "# LLE embedding\n",
    "f, ax = plt.subplots()\n",
    "ax.scatter(embed_lle[:, 0], embed_lle[:, 1], s = 1)\n",
    "ax.set_aspect('equal') # if an ellipse is a circle no distortion occured. \n",
    "for i in range(n_plot):\n",
    "    ii = sample_points[i]\n",
    "    cov = H_lle[ii, :, :]\n",
    "    plot_cov_ellipse(cov*0.1, embed_lle[ii,:] ,ax=ax, edgecolor='none', alpha = 0.5)\n",
    "plt.show()"
   ]
  },
  {
   "cell_type": "code",
   "execution_count": 43,
   "id": "d695d989",
   "metadata": {},
   "outputs": [
    {
     "data": {
      "image/png": "[encoded data removed]",
      "text/plain": [
       "<Figure size 432x288 with 1 Axes>"
      ]
     },
     "metadata": {
      "needs_background": "light"
     },
     "output_type": "display_data"
    }
   ],
   "source": [
    "# LTSA embedding\n",
    "f, ax = plt.subplots()\n",
    "ax.scatter(embed_ltsa[:, 0], embed_ltsa[:, 1], s = 1)\n",
    "ax.set_aspect('equal') # if an ellipse is a circle no distortion occured. \n",
    "for i in range(n_plot):\n",
    "    ii = sample_points[i]\n",
    "    cov = H_ltsa[ii, :, :]\n",
    "    plot_cov_ellipse(cov*0.05, embed_ltsa[ii,:] ,ax=ax, edgecolor='none', alpha = 0.5)\n",
    "plt.show()"
   ]
  },
  {
   "cell_type": "code",
   "execution_count": 44,
   "id": "a24cf017",
   "metadata": {},
   "outputs": [
    {
     "ename": "TypeError",
     "evalue": "return arrays must be of ArrayType",
     "output_type": "error",
     "traceback": [
      "\u001b[0;31m---------------------------------------------------------------------------\u001b[0m",
      "\u001b[0;31mTypeError\u001b[0m                                 Traceback (most recent call last)",
      "\u001b[0;32m<ipython-input-44-a4e5f49e9d03>\u001b[0m in \u001b[0;36m<module>\u001b[0;34m()\u001b[0m\n\u001b[1;32m      6\u001b[0m     \u001b[0mii\u001b[0m \u001b[0;34m=\u001b[0m \u001b[0msample_points\u001b[0m\u001b[0;34m[\u001b[0m\u001b[0mi\u001b[0m\u001b[0;34m]\u001b[0m\u001b[0;34m\u001b[0m\u001b[0m\n\u001b[1;32m      7\u001b[0m     \u001b[0mcov\u001b[0m \u001b[0;34m=\u001b[0m \u001b[0mH_spectral\u001b[0m\u001b[0;34m[\u001b[0m\u001b[0mii\u001b[0m\u001b[0;34m,\u001b[0m \u001b[0;34m:\u001b[0m\u001b[0;34m,\u001b[0m \u001b[0;34m:\u001b[0m\u001b[0;34m]\u001b[0m\u001b[0;34m\u001b[0m\u001b[0m\n\u001b[0;32m----> 8\u001b[0;31m     \u001b[0mplot_cov_ellipse\u001b[0m\u001b[0;34m(\u001b[0m\u001b[0mcov\u001b[0m\u001b[0;34m*\u001b[0m\u001b[0;36m0.01\u001b[0m\u001b[0;34m,\u001b[0m \u001b[0membed_spectral\u001b[0m\u001b[0;34m[\u001b[0m\u001b[0mii\u001b[0m\u001b[0;34m,\u001b[0m\u001b[0;34m:\u001b[0m\u001b[0;34m]\u001b[0m \u001b[0;34m,\u001b[0m\u001b[0max\u001b[0m\u001b[0;34m=\u001b[0m\u001b[0max\u001b[0m\u001b[0;34m,\u001b[0m \u001b[0medgecolor\u001b[0m\u001b[0;34m=\u001b[0m\u001b[0;34m'none'\u001b[0m\u001b[0;34m,\u001b[0m \u001b[0malpha\u001b[0m \u001b[0;34m=\u001b[0m \u001b[0;36m0.5\u001b[0m\u001b[0;34m)\u001b[0m\u001b[0;34m\u001b[0m\u001b[0m\n\u001b[0m\u001b[1;32m      9\u001b[0m \u001b[0mplt\u001b[0m\u001b[0;34m.\u001b[0m\u001b[0mshow\u001b[0m\u001b[0;34m(\u001b[0m\u001b[0;34m)\u001b[0m\u001b[0;34m\u001b[0m\u001b[0m\n",
      "\u001b[0;32m/Users/fche0019/miniconda3/envs/manifold_env/lib/python3.5/site-packages/megaman/utils/covar_plotter.py\u001b[0m in \u001b[0;36mplot_cov_ellipse\u001b[0;34m(cov, pos, nstd, ax, **kwargs)\u001b[0m\n\u001b[1;32m     58\u001b[0m \u001b[0;34m\u001b[0m\u001b[0m\n\u001b[1;32m     59\u001b[0m     \u001b[0mvals\u001b[0m\u001b[0;34m,\u001b[0m \u001b[0mvecs\u001b[0m \u001b[0;34m=\u001b[0m \u001b[0meigsorted\u001b[0m\u001b[0;34m(\u001b[0m\u001b[0mcov\u001b[0m\u001b[0;34m)\u001b[0m\u001b[0;34m\u001b[0m\u001b[0m\n\u001b[0;32m---> 60\u001b[0;31m     \u001b[0mtheta\u001b[0m \u001b[0;34m=\u001b[0m \u001b[0mnp\u001b[0m\u001b[0;34m.\u001b[0m\u001b[0mdegrees\u001b[0m\u001b[0;34m(\u001b[0m\u001b[0mnp\u001b[0m\u001b[0;34m.\u001b[0m\u001b[0marctan2\u001b[0m\u001b[0;34m(\u001b[0m\u001b[0;34m*\u001b[0m\u001b[0mvecs\u001b[0m\u001b[0;34m[\u001b[0m\u001b[0;34m:\u001b[0m\u001b[0;34m,\u001b[0m\u001b[0;36m0\u001b[0m\u001b[0;34m]\u001b[0m\u001b[0;34m[\u001b[0m\u001b[0;34m:\u001b[0m\u001b[0;34m:\u001b[0m\u001b[0;34m-\u001b[0m\u001b[0;36m1\u001b[0m\u001b[0;34m]\u001b[0m\u001b[0;34m)\u001b[0m\u001b[0;34m)\u001b[0m\u001b[0;34m\u001b[0m\u001b[0m\n\u001b[0m\u001b[1;32m     61\u001b[0m \u001b[0;34m\u001b[0m\u001b[0m\n\u001b[1;32m     62\u001b[0m     \u001b[0;31m# Width and height are \"full\" widths, not radius\u001b[0m\u001b[0;34m\u001b[0m\u001b[0;34m\u001b[0m\u001b[0m\n",
      "\u001b[0;31mTypeError\u001b[0m: return arrays must be of ArrayType"
     ]
    },
    {
     "data": {
      "image/png": "[encoded data removed]",
      "text/plain": [
       "<Figure size 432x288 with 1 Axes>"
      ]
     },
     "metadata": {
      "needs_background": "light"
     },
     "output_type": "display_data"
    }
   ],
   "source": [
    "# Spectral embedding\n",
    "f, ax = plt.subplots()\n",
    "ax.scatter(embed_spectral[:, 0], embed_spectral[:, 1], s = 1)\n",
    "ax.set_aspect('equal') # if an ellipse is a circle no distortion occured. \n",
    "for i in range(n_plot):\n",
    "    ii = sample_points[i]\n",
    "    cov = H_spectral[ii, :, :]\n",
    "    plot_cov_ellipse(cov*0.01, embed_spectral[ii,:] ,ax=ax, edgecolor='none', alpha = 0.5)\n",
    "plt.show()"
   ]
  },
  {
   "cell_type": "code",
   "execution_count": null,
   "id": "c831fa7f",
   "metadata": {},
   "outputs": [],
   "source": []
  }
 ],
 "metadata": {
  "kernelspec": {
   "display_name": "manifold_env",
   "language": "python",
   "name": "manifold_env"
  },
  "language_info": {
   "codemirror_mode": {
    "name": "ipython",
    "version": 3
   },
   "file_extension": ".py",
   "mimetype": "text/x-python",
   "name": "python",
   "nbconvert_exporter": "python",
   "pygments_lexer": "ipython3",
   "version": "3.5.6"
  }
 },
 "nbformat": 4,
 "nbformat_minor": 5
}
