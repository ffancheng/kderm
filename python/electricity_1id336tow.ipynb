{
 "cells": [
  {
   "cell_type": "markdown",
   "id": "509de6f2",
   "metadata": {},
   "source": [
    "# <center>Dimension reduction for the electricity data ID=1003</center>"
   ]
  },
  {
   "cell_type": "code",
   "execution_count": 4,
   "id": "afb1bf69",
   "metadata": {},
   "outputs": [],
   "source": [
    "import numpy as np\n",
    "import pandas as pd\n",
    "\n",
    "%matplotlib inline\n",
    "import matplotlib.pyplot as plt\n",
    "import matplotlib.pyplot as plt\n",
    "from mpl_toolkits.mplot3d import Axes3D\n",
    "\n",
    "from sklearn.decomposition import PCA\n",
    "from sklearn.datasets import (make_swiss_roll, make_s_curve)\n",
    "from sklearn import datasets\n",
    "import os\n",
    "\n",
    "# import feather"
   ]
  },
  {
   "cell_type": "code",
   "execution_count": 3,
   "id": "2111217e",
   "metadata": {},
   "outputs": [],
   "source": [
    "from megaman.datasets import generate_megaman_manifold\n",
    "from megaman.geometry import Geometry\n",
    "from megaman.embedding import (Isomap, LocallyLinearEmbedding, LTSA, SpectralEmbedding)\n",
    "from megaman.plotter import (plot_with_plotly, plot_embedding_with_plotly, \n",
    "                     plot_with_matplotlib, plot_embedding_with_matplotlib) \n",
    "from megaman.geometry.rmetric import RiemannMetric\n",
    "from megaman.utils.covar_plotter import plot_cov_ellipse"
   ]
  },
  {
   "cell_type": "markdown",
   "id": "e68ddea3",
   "metadata": {},
   "source": [
    "# Read the electricity data in feather format"
   ]
  },
  {
   "cell_type": "code",
   "execution_count": 5,
   "id": "65790887",
   "metadata": {},
   "outputs": [],
   "source": [
    "os.getcwd()\n",
    "os.chdir(path=\"/Users/fche0019/git/kderm/\")"
   ]
  },
  {
   "cell_type": "code",
   "execution_count": 6,
   "id": "97b82202",
   "metadata": {},
   "outputs": [],
   "source": [
    "# pip install feather-format\n",
    "\n",
    "import feather\n",
    "\n",
    "# read the smart meter data for 3 ids and 10 tow\n",
    "path = 'data/spdemand_1id336tow.feather'\n",
    "data = feather.read_dataframe(path)"
   ]
  },
  {
   "cell_type": "code",
   "execution_count": 7,
   "id": "9ec7a1d4",
   "metadata": {},
   "outputs": [
    {
     "data": {
      "text/html": [
       "<div>\n",
       "<style scoped>\n",
       "    .dataframe tbody tr th:only-of-type {\n",
       "        vertical-align: middle;\n",
       "    }\n",
       "\n",
       "    .dataframe tbody tr th {\n",
       "        vertical-align: top;\n",
       "    }\n",
       "\n",
       "    .dataframe thead th {\n",
       "        text-align: right;\n",
       "    }\n",
       "</style>\n",
       "<table border=\"1\" class=\"dataframe\">\n",
       "  <thead>\n",
       "    <tr style=\"text-align: right;\">\n",
       "      <th></th>\n",
       "      <th>p1</th>\n",
       "      <th>p2</th>\n",
       "      <th>p3</th>\n",
       "      <th>p4</th>\n",
       "      <th>p5</th>\n",
       "      <th>p6</th>\n",
       "      <th>p7</th>\n",
       "      <th>p8</th>\n",
       "      <th>p9</th>\n",
       "      <th>p10</th>\n",
       "      <th>...</th>\n",
       "      <th>p192</th>\n",
       "      <th>p193</th>\n",
       "      <th>p194</th>\n",
       "      <th>p195</th>\n",
       "      <th>p196</th>\n",
       "      <th>p197</th>\n",
       "      <th>p198</th>\n",
       "      <th>p199</th>\n",
       "      <th>p200</th>\n",
       "      <th>p201</th>\n",
       "    </tr>\n",
       "  </thead>\n",
       "  <tbody>\n",
       "    <tr>\n",
       "      <th>0</th>\n",
       "      <td>0.0</td>\n",
       "      <td>0.0</td>\n",
       "      <td>0.000000</td>\n",
       "      <td>0.000000</td>\n",
       "      <td>0.192508</td>\n",
       "      <td>0.327709</td>\n",
       "      <td>0.453519</td>\n",
       "      <td>0.378252</td>\n",
       "      <td>0.340095</td>\n",
       "      <td>0.334405</td>\n",
       "      <td>...</td>\n",
       "      <td>0.0</td>\n",
       "      <td>0.0</td>\n",
       "      <td>0.0</td>\n",
       "      <td>0.0</td>\n",
       "      <td>0.0</td>\n",
       "      <td>0.0</td>\n",
       "      <td>0.0</td>\n",
       "      <td>0.0</td>\n",
       "      <td>0.0</td>\n",
       "      <td>0.0</td>\n",
       "    </tr>\n",
       "    <tr>\n",
       "      <th>1</th>\n",
       "      <td>0.0</td>\n",
       "      <td>0.0</td>\n",
       "      <td>0.000000</td>\n",
       "      <td>0.140464</td>\n",
       "      <td>0.225874</td>\n",
       "      <td>0.388155</td>\n",
       "      <td>0.435609</td>\n",
       "      <td>0.356809</td>\n",
       "      <td>0.370509</td>\n",
       "      <td>0.290407</td>\n",
       "      <td>...</td>\n",
       "      <td>0.0</td>\n",
       "      <td>0.0</td>\n",
       "      <td>0.0</td>\n",
       "      <td>0.0</td>\n",
       "      <td>0.0</td>\n",
       "      <td>0.0</td>\n",
       "      <td>0.0</td>\n",
       "      <td>0.0</td>\n",
       "      <td>0.0</td>\n",
       "      <td>0.0</td>\n",
       "    </tr>\n",
       "    <tr>\n",
       "      <th>2</th>\n",
       "      <td>0.0</td>\n",
       "      <td>0.0</td>\n",
       "      <td>0.000000</td>\n",
       "      <td>0.238210</td>\n",
       "      <td>0.297175</td>\n",
       "      <td>0.404418</td>\n",
       "      <td>0.368572</td>\n",
       "      <td>0.375908</td>\n",
       "      <td>0.380093</td>\n",
       "      <td>0.287200</td>\n",
       "      <td>...</td>\n",
       "      <td>0.0</td>\n",
       "      <td>0.0</td>\n",
       "      <td>0.0</td>\n",
       "      <td>0.0</td>\n",
       "      <td>0.0</td>\n",
       "      <td>0.0</td>\n",
       "      <td>0.0</td>\n",
       "      <td>0.0</td>\n",
       "      <td>0.0</td>\n",
       "      <td>0.0</td>\n",
       "    </tr>\n",
       "    <tr>\n",
       "      <th>3</th>\n",
       "      <td>0.0</td>\n",
       "      <td>0.0</td>\n",
       "      <td>0.113826</td>\n",
       "      <td>0.271506</td>\n",
       "      <td>0.349884</td>\n",
       "      <td>0.437520</td>\n",
       "      <td>0.357417</td>\n",
       "      <td>0.349843</td>\n",
       "      <td>0.364760</td>\n",
       "      <td>0.253428</td>\n",
       "      <td>...</td>\n",
       "      <td>0.0</td>\n",
       "      <td>0.0</td>\n",
       "      <td>0.0</td>\n",
       "      <td>0.0</td>\n",
       "      <td>0.0</td>\n",
       "      <td>0.0</td>\n",
       "      <td>0.0</td>\n",
       "      <td>0.0</td>\n",
       "      <td>0.0</td>\n",
       "      <td>0.0</td>\n",
       "    </tr>\n",
       "    <tr>\n",
       "      <th>4</th>\n",
       "      <td>0.0</td>\n",
       "      <td>0.0</td>\n",
       "      <td>0.165439</td>\n",
       "      <td>0.278289</td>\n",
       "      <td>0.424867</td>\n",
       "      <td>0.404182</td>\n",
       "      <td>0.329715</td>\n",
       "      <td>0.354768</td>\n",
       "      <td>0.349593</td>\n",
       "      <td>0.261966</td>\n",
       "      <td>...</td>\n",
       "      <td>0.0</td>\n",
       "      <td>0.0</td>\n",
       "      <td>0.0</td>\n",
       "      <td>0.0</td>\n",
       "      <td>0.0</td>\n",
       "      <td>0.0</td>\n",
       "      <td>0.0</td>\n",
       "      <td>0.0</td>\n",
       "      <td>0.0</td>\n",
       "      <td>0.0</td>\n",
       "    </tr>\n",
       "    <tr>\n",
       "      <th>5</th>\n",
       "      <td>0.0</td>\n",
       "      <td>0.0</td>\n",
       "      <td>0.165439</td>\n",
       "      <td>0.308875</td>\n",
       "      <td>0.423780</td>\n",
       "      <td>0.409621</td>\n",
       "      <td>0.366819</td>\n",
       "      <td>0.345644</td>\n",
       "      <td>0.334802</td>\n",
       "      <td>0.259793</td>\n",
       "      <td>...</td>\n",
       "      <td>0.0</td>\n",
       "      <td>0.0</td>\n",
       "      <td>0.0</td>\n",
       "      <td>0.0</td>\n",
       "      <td>0.0</td>\n",
       "      <td>0.0</td>\n",
       "      <td>0.0</td>\n",
       "      <td>0.0</td>\n",
       "      <td>0.0</td>\n",
       "      <td>0.0</td>\n",
       "    </tr>\n",
       "    <tr>\n",
       "      <th>6</th>\n",
       "      <td>0.0</td>\n",
       "      <td>0.0</td>\n",
       "      <td>0.170587</td>\n",
       "      <td>0.337662</td>\n",
       "      <td>0.441113</td>\n",
       "      <td>0.397066</td>\n",
       "      <td>0.360494</td>\n",
       "      <td>0.372039</td>\n",
       "      <td>0.317396</td>\n",
       "      <td>0.251705</td>\n",
       "      <td>...</td>\n",
       "      <td>0.0</td>\n",
       "      <td>0.0</td>\n",
       "      <td>0.0</td>\n",
       "      <td>0.0</td>\n",
       "      <td>0.0</td>\n",
       "      <td>0.0</td>\n",
       "      <td>0.0</td>\n",
       "      <td>0.0</td>\n",
       "      <td>0.0</td>\n",
       "      <td>0.0</td>\n",
       "    </tr>\n",
       "    <tr>\n",
       "      <th>7</th>\n",
       "      <td>0.0</td>\n",
       "      <td>0.0</td>\n",
       "      <td>0.146389</td>\n",
       "      <td>0.328595</td>\n",
       "      <td>0.445168</td>\n",
       "      <td>0.427115</td>\n",
       "      <td>0.368672</td>\n",
       "      <td>0.372785</td>\n",
       "      <td>0.318489</td>\n",
       "      <td>0.240465</td>\n",
       "      <td>...</td>\n",
       "      <td>0.0</td>\n",
       "      <td>0.0</td>\n",
       "      <td>0.0</td>\n",
       "      <td>0.0</td>\n",
       "      <td>0.0</td>\n",
       "      <td>0.0</td>\n",
       "      <td>0.0</td>\n",
       "      <td>0.0</td>\n",
       "      <td>0.0</td>\n",
       "      <td>0.0</td>\n",
       "    </tr>\n",
       "    <tr>\n",
       "      <th>8</th>\n",
       "      <td>0.0</td>\n",
       "      <td>0.0</td>\n",
       "      <td>0.161535</td>\n",
       "      <td>0.305471</td>\n",
       "      <td>0.437178</td>\n",
       "      <td>0.414975</td>\n",
       "      <td>0.336253</td>\n",
       "      <td>0.336865</td>\n",
       "      <td>0.312312</td>\n",
       "      <td>0.255254</td>\n",
       "      <td>...</td>\n",
       "      <td>0.0</td>\n",
       "      <td>0.0</td>\n",
       "      <td>0.0</td>\n",
       "      <td>0.0</td>\n",
       "      <td>0.0</td>\n",
       "      <td>0.0</td>\n",
       "      <td>0.0</td>\n",
       "      <td>0.0</td>\n",
       "      <td>0.0</td>\n",
       "      <td>0.0</td>\n",
       "    </tr>\n",
       "    <tr>\n",
       "      <th>9</th>\n",
       "      <td>0.0</td>\n",
       "      <td>0.0</td>\n",
       "      <td>0.172723</td>\n",
       "      <td>0.256968</td>\n",
       "      <td>0.428906</td>\n",
       "      <td>0.406334</td>\n",
       "      <td>0.333699</td>\n",
       "      <td>0.318594</td>\n",
       "      <td>0.353975</td>\n",
       "      <td>0.259796</td>\n",
       "      <td>...</td>\n",
       "      <td>0.0</td>\n",
       "      <td>0.0</td>\n",
       "      <td>0.0</td>\n",
       "      <td>0.0</td>\n",
       "      <td>0.0</td>\n",
       "      <td>0.0</td>\n",
       "      <td>0.0</td>\n",
       "      <td>0.0</td>\n",
       "      <td>0.0</td>\n",
       "      <td>0.0</td>\n",
       "    </tr>\n",
       "  </tbody>\n",
       "</table>\n",
       "<p>10 rows × 201 columns</p>\n",
       "</div>"
      ],
      "text/plain": [
       "    p1   p2        p3        p4        p5        p6        p7        p8  \\\n",
       "0  0.0  0.0  0.000000  0.000000  0.192508  0.327709  0.453519  0.378252   \n",
       "1  0.0  0.0  0.000000  0.140464  0.225874  0.388155  0.435609  0.356809   \n",
       "2  0.0  0.0  0.000000  0.238210  0.297175  0.404418  0.368572  0.375908   \n",
       "3  0.0  0.0  0.113826  0.271506  0.349884  0.437520  0.357417  0.349843   \n",
       "4  0.0  0.0  0.165439  0.278289  0.424867  0.404182  0.329715  0.354768   \n",
       "5  0.0  0.0  0.165439  0.308875  0.423780  0.409621  0.366819  0.345644   \n",
       "6  0.0  0.0  0.170587  0.337662  0.441113  0.397066  0.360494  0.372039   \n",
       "7  0.0  0.0  0.146389  0.328595  0.445168  0.427115  0.368672  0.372785   \n",
       "8  0.0  0.0  0.161535  0.305471  0.437178  0.414975  0.336253  0.336865   \n",
       "9  0.0  0.0  0.172723  0.256968  0.428906  0.406334  0.333699  0.318594   \n",
       "\n",
       "         p9       p10  ...  p192  p193  p194  p195  p196  p197  p198  p199  \\\n",
       "0  0.340095  0.334405  ...   0.0   0.0   0.0   0.0   0.0   0.0   0.0   0.0   \n",
       "1  0.370509  0.290407  ...   0.0   0.0   0.0   0.0   0.0   0.0   0.0   0.0   \n",
       "2  0.380093  0.287200  ...   0.0   0.0   0.0   0.0   0.0   0.0   0.0   0.0   \n",
       "3  0.364760  0.253428  ...   0.0   0.0   0.0   0.0   0.0   0.0   0.0   0.0   \n",
       "4  0.349593  0.261966  ...   0.0   0.0   0.0   0.0   0.0   0.0   0.0   0.0   \n",
       "5  0.334802  0.259793  ...   0.0   0.0   0.0   0.0   0.0   0.0   0.0   0.0   \n",
       "6  0.317396  0.251705  ...   0.0   0.0   0.0   0.0   0.0   0.0   0.0   0.0   \n",
       "7  0.318489  0.240465  ...   0.0   0.0   0.0   0.0   0.0   0.0   0.0   0.0   \n",
       "8  0.312312  0.255254  ...   0.0   0.0   0.0   0.0   0.0   0.0   0.0   0.0   \n",
       "9  0.353975  0.259796  ...   0.0   0.0   0.0   0.0   0.0   0.0   0.0   0.0   \n",
       "\n",
       "   p200  p201  \n",
       "0   0.0   0.0  \n",
       "1   0.0   0.0  \n",
       "2   0.0   0.0  \n",
       "3   0.0   0.0  \n",
       "4   0.0   0.0  \n",
       "5   0.0   0.0  \n",
       "6   0.0   0.0  \n",
       "7   0.0   0.0  \n",
       "8   0.0   0.0  \n",
       "9   0.0   0.0  \n",
       "\n",
       "[10 rows x 201 columns]"
      ]
     },
     "execution_count": 7,
     "metadata": {},
     "output_type": "execute_result"
    }
   ],
   "source": [
    "data.head(10)"
   ]
  },
  {
   "cell_type": "code",
   "execution_count": 8,
   "id": "d3d85462",
   "metadata": {},
   "outputs": [
    {
     "data": {
      "text/plain": [
       "(336, 201)"
      ]
     },
     "execution_count": 8,
     "metadata": {},
     "output_type": "execute_result"
    }
   ],
   "source": [
    "N = len(data)\n",
    "data.shape"
   ]
  },
  {
   "cell_type": "code",
   "execution_count": 9,
   "id": "c4189208",
   "metadata": {},
   "outputs": [
    {
     "name": "stdout",
     "output_type": "stream",
     "text": [
      "    p1   p2   p3   p4        p5        p6        p7        p8        p9  \\\n",
      "0  0.0  0.0  0.0  0.0  0.192508  0.327709  0.453519  0.378252  0.340095   \n",
      "\n",
      "        p10  ...  p192  p193  p194  p195  p196  p197  p198  p199  p200  p201  \n",
      "0  0.334405  ...   0.0   0.0   0.0   0.0   0.0   0.0   0.0   0.0   0.0   0.0  \n",
      "\n",
      "[1 rows x 201 columns]\n"
     ]
    },
    {
     "data": {
      "text/plain": [
       "pandas.core.frame.DataFrame"
      ]
     },
     "execution_count": 9,
     "metadata": {},
     "output_type": "execute_result"
    }
   ],
   "source": [
    "X = data.copy()\n",
    "print(X[:1])\n",
    "X['p1']\n",
    "type(X)"
   ]
  },
  {
   "cell_type": "markdown",
   "id": "9d179237",
   "metadata": {},
   "source": [
    "## Colors for plotting"
   ]
  },
  {
   "cell_type": "code",
   "execution_count": 10,
   "id": "b8c642f1",
   "metadata": {},
   "outputs": [],
   "source": [
    "# import cmapy\n",
    "# import random\n",
    "# rgb_color = cmapy.color('viridis', random.randrange(0, 256), rgb_order=True)\n",
    "# print(rgb_color)"
   ]
  },
  {
   "cell_type": "code",
   "execution_count": 11,
   "id": "dcd2c9b1",
   "metadata": {},
   "outputs": [],
   "source": [
    "from random import randint\n",
    "color = []\n",
    "\n",
    "# for i in range(len(X)):\n",
    "#     color.append('#%06X' % randint(0, 0xFFFFFF))\n",
    "\n",
    "# print(color)"
   ]
  },
  {
   "cell_type": "markdown",
   "id": "f140f2fd",
   "metadata": {},
   "source": [
    "# Dimension reduction"
   ]
  },
  {
   "cell_type": "code",
   "execution_count": 12,
   "id": "f8338f9b",
   "metadata": {},
   "outputs": [],
   "source": [
    "# # compute the first four principal components and plot their pairwise relationships\n",
    "# X_pca = PCA(4).fit_transform(X)\n",
    "# print(X_pca)\n",
    "# X_pca.shape"
   ]
  },
  {
   "cell_type": "markdown",
   "id": "9f134ed0",
   "metadata": {},
   "source": [
    "### Initialize Geometry class"
   ]
  },
  {
   "cell_type": "code",
   "execution_count": 13,
   "id": "e7301b66",
   "metadata": {},
   "outputs": [],
   "source": [
    "radius = 1\n",
    "adjacency_method = 'kd_tree'\n",
    "adjacency_kwds = {'radius':radius} # ignore distances above this radius\n",
    "affinity_method = 'gaussian'\n",
    "affinity_kwds = {'radius':radius} # A = exp(-||x - y||/radius^2) \n",
    "laplacian_method = 'geometric'\n",
    "laplacian_kwds = {'scaling_epps':radius} # scaling ensures convergence to Laplace-Beltrami operator\n",
    "\n",
    "geom = Geometry(adjacency_method=adjacency_method, adjacency_kwds=adjacency_kwds,\n",
    "                affinity_method=affinity_method, affinity_kwds=affinity_kwds,\n",
    "                laplacian_method=laplacian_method, laplacian_kwds=laplacian_kwds)"
   ]
  },
  {
   "cell_type": "markdown",
   "id": "83eead25",
   "metadata": {},
   "source": [
    "### Inputing Data to Geometry\n",
    "\n",
    "- set_data_matrix(): input an (n_observation X n_dimensions) array of data points\n",
    "- set_adjacency_matrix(): input an (n_observation X n_observation) pairwise (sparse) matrix indicating neighborhoods distances. This matrix should be sparse with zero entries considered Infinite. The diagonal is considered explicitly zero when calculating an affinity matrix.\n",
    "- set_affinity_matrix(): input an (n_observation X n_observation) pairwise (sparse) indicating similarity between points. High values indicate strong degree of similarity, the diagonal should take on the maximum value in its row."
   ]
  },
  {
   "cell_type": "code",
   "execution_count": 14,
   "id": "8081d8bc",
   "metadata": {},
   "outputs": [],
   "source": [
    "geom.set_data_matrix(X)"
   ]
  },
  {
   "cell_type": "markdown",
   "id": "0d866cd4",
   "metadata": {},
   "source": [
    "### Computing geometric matrices"
   ]
  },
  {
   "cell_type": "code",
   "execution_count": 15,
   "id": "f24c1a3e",
   "metadata": {},
   "outputs": [
    {
     "name": "stdout",
     "output_type": "stream",
     "text": [
      "  (0, 135)\t0.6198912806024586\n",
      "  (0, 38)\t0.690156328118647\n",
      "  (0, 39)\t0.6637077766623637\n",
      "  (0, 40)\t0.6535310114174497\n",
      "  (0, 41)\t0.6485324357638712\n",
      "  (0, 42)\t0.5949019460042955\n",
      "  (0, 43)\t0.550059539444835\n",
      "  (0, 44)\t0.49794717480284506\n",
      "  (0, 88)\t0.5742613330829578\n",
      "  (0, 89)\t0.5722319866260552\n",
      "  (0, 93)\t0.46841708875797705\n",
      "  (0, 136)\t0.5984172605501672\n",
      "  (0, 138)\t0.5762072070473625\n",
      "  (0, 139)\t0.5578976191869564\n",
      "  (0, 232)\t0.5791960282704245\n",
      "  (0, 234)\t0.5453820748708829\n",
      "  (0, 235)\t0.5521258767120139\n",
      "  (0, 236)\t0.6101355372181629\n",
      "  (0, 237)\t0.553125139943381\n",
      "  (0, 282)\t0.6343881398403856\n",
      "  (0, 284)\t0.4577109822293908\n",
      "  (0, 330)\t0.58045814030431\n",
      "  (0, 331)\t0.5120735503263253\n",
      "  (0, 332)\t0.4255095502271572\n",
      "  (0, 37)\t0.7506241427120666\n",
      "  :\t:\n",
      "  (335, 309)\t0.583066712492798\n",
      "  (335, 115)\t0.6170279006891863\n",
      "  (335, 213)\t0.6865305875256164\n",
      "  (335, 317)\t0.6420912824281507\n",
      "  (335, 73)\t0.714572290251952\n",
      "  (335, 308)\t0.606366344974128\n",
      "  (335, 165)\t0.6089249780121214\n",
      "  (335, 222)\t0.5273909600626271\n",
      "  (335, 319)\t0.6557112339481349\n",
      "  (335, 164)\t0.6619861001962678\n",
      "  (335, 74)\t0.6380618088841964\n",
      "  (335, 163)\t0.6279839498269214\n",
      "  (335, 77)\t0.5625259456614737\n",
      "  (335, 78)\t0.5339047028594699\n",
      "  (335, 320)\t0.6201802248907391\n",
      "  (335, 269)\t0.540025841045952\n",
      "  (335, 31)\t0.5141003398179167\n",
      "  (335, 201)\t0.5072828939890182\n",
      "  (335, 220)\t0.583749038662033\n",
      "  (335, 66)\t0.5710657056222983\n",
      "  (335, 75)\t0.6277402125228067\n",
      "  (335, 318)\t0.6629931449687447\n",
      "  (335, 76)\t0.5811547890218003\n",
      "  (335, 116)\t0.6104942656620331\n",
      "  (335, 221)\t0.545884978298255\n"
     ]
    }
   ],
   "source": [
    "adjacency_matrix = geom.compute_adjacency_matrix()\n",
    "print(adjacency_matrix)"
   ]
  },
  {
   "cell_type": "code",
   "execution_count": 16,
   "id": "53231eac",
   "metadata": {},
   "outputs": [
    {
     "data": {
      "text/plain": [
       "scipy.sparse.csr.csr_matrix"
      ]
     },
     "execution_count": 16,
     "metadata": {},
     "output_type": "execute_result"
    }
   ],
   "source": [
    "type(adjacency_matrix) # csr_matrix sparse matrix"
   ]
  },
  {
   "cell_type": "code",
   "execution_count": 17,
   "id": "374ae268",
   "metadata": {},
   "outputs": [
    {
     "data": {
      "text/plain": [
       "matrix([[0.        , 0.219312  , 0.33814413, ..., 0.30562167, 0.25297842,\n",
       "         0.15449844],\n",
       "        [0.219312  , 0.        , 0.17533853, ..., 0.39265777, 0.34066676,\n",
       "         0.24842554],\n",
       "        [0.33814413, 0.17533853, 0.        , ..., 0.46124173, 0.39865019,\n",
       "         0.35306817],\n",
       "        ...,\n",
       "        [0.30562167, 0.39265777, 0.46124173, ..., 0.        , 0.19197091,\n",
       "         0.24867399],\n",
       "        [0.25297842, 0.34066676, 0.39865019, ..., 0.19197091, 0.        ,\n",
       "         0.19651321],\n",
       "        [0.15449844, 0.24842554, 0.35306817, ..., 0.24867399, 0.19651321,\n",
       "         0.        ]])"
      ]
     },
     "execution_count": 17,
     "metadata": {},
     "output_type": "execute_result"
    }
   ],
   "source": [
    "adjacency_matrix.todense()\n",
    "# np.save(\"data/adjacency_matrix_1id336tow.npy\", adjacency_matrix.todense()) # error in reading in R"
   ]
  },
  {
   "cell_type": "code",
   "execution_count": 20,
   "id": "3d9fa000",
   "metadata": {},
   "outputs": [
    {
     "name": "stdout",
     "output_type": "stream",
     "text": [
      "[[1.         0.95304062 0.89195334 ... 0.9108249  0.9380068  0.97641286]\n",
      " [0.95304062 1.         0.96972418 ... 0.85711762 0.89042728 0.94015056]\n",
      " [0.89195334 0.96972418 1.         ... 0.80836311 0.85306292 0.88279953]\n",
      " ...\n",
      " [0.9108249  0.85711762 0.80836311 ... 1.         0.96381797 0.94003445]\n",
      " [0.9380068  0.89042728 0.85306292 ... 0.96381797 1.         0.96211871]\n",
      " [0.97641286 0.94015056 0.88279953 ... 0.94003445 0.96211871 1.        ]]\n"
     ]
    }
   ],
   "source": [
    "aff_matrix = geom.compute_affinity_matrix()\n",
    "print(aff_matrix.todense())"
   ]
  },
  {
   "cell_type": "code",
   "execution_count": 78,
   "id": "3982edf2",
   "metadata": {},
   "outputs": [
    {
     "name": "stdout",
     "output_type": "stream",
     "text": [
      "          0         1         2         3         4         5         6    \\\n",
      "0    0.000000  0.219312  0.338144  0.427638  0.487504  0.519722  0.574172   \n",
      "1    0.219312  0.000000  0.175339  0.276576  0.356690  0.385162  0.447088   \n",
      "2    0.338144  0.175339  0.000000  0.152233  0.239011  0.288405  0.338728   \n",
      "3    0.427638  0.276576  0.152233  0.000000  0.111815  0.189539  0.238278   \n",
      "4    0.487504  0.356690  0.239011  0.111815  0.000000  0.144896  0.169190   \n",
      "..        ...       ...       ...       ...       ...       ...       ...   \n",
      "331  0.512074  0.595700  0.669542  0.749316  0.794578  0.832879  0.881860   \n",
      "332  0.425510  0.522655  0.599381  0.684444  0.734426  0.773629  0.817472   \n",
      "333  0.305622  0.392658  0.461242  0.549378  0.600970  0.644443  0.690206   \n",
      "334  0.252978  0.340667  0.398650  0.486946  0.539983  0.592024  0.631963   \n",
      "335  0.154498  0.248426  0.353068  0.442189  0.506478  0.551436  0.602051   \n",
      "\n",
      "          7         8         9    ...       326       327       328  \\\n",
      "0    0.605943  0.518076  0.484136  ...  0.736139  0.699761  0.662666   \n",
      "1    0.485259  0.384954  0.376709  ...  0.807247  0.774471  0.738666   \n",
      "2    0.365135  0.283421  0.286308  ...  0.844382  0.820696  0.786523   \n",
      "3    0.267029  0.183779  0.192197  ...  0.887985  0.871963  0.844889   \n",
      "4    0.214549  0.130547  0.146317  ...  0.910800  0.899501  0.874314   \n",
      "..        ...       ...       ...  ...       ...       ...       ...   \n",
      "331  0.920105  0.815202  0.771855  ...  0.467216  0.400725  0.350499   \n",
      "332  0.849688  0.761302  0.717723  ...  0.513950  0.459356  0.411249   \n",
      "333  0.715934  0.635745  0.588632  ...  0.606711  0.547500  0.504445   \n",
      "334  0.652790  0.587192  0.542232  ...  0.677148  0.634486  0.590759   \n",
      "335  0.630553  0.549166  0.502748  ...  0.697232  0.654465  0.617475   \n",
      "\n",
      "          329       330       331       332       333       334       335  \n",
      "0    0.612861  0.580458  0.512074  0.425510  0.305622  0.252978  0.154498  \n",
      "1    0.688290  0.660385  0.595700  0.522655  0.392658  0.340667  0.248426  \n",
      "2    0.738973  0.724329  0.669542  0.599381  0.461242  0.398650  0.353068  \n",
      "3    0.804023  0.797778  0.749316  0.684444  0.549378  0.486946  0.442189  \n",
      "4    0.836459  0.840868  0.794578  0.734426  0.600970  0.539983  0.506478  \n",
      "..        ...       ...       ...       ...       ...       ...       ...  \n",
      "331  0.264893  0.187373  0.000000  0.198827  0.335633  0.446516  0.476742  \n",
      "332  0.355640  0.283212  0.198827  0.000000  0.240267  0.346857  0.389142  \n",
      "333  0.447454  0.416309  0.335633  0.240267  0.000000  0.191971  0.248674  \n",
      "334  0.539827  0.518483  0.446516  0.346857  0.191971  0.000000  0.196513  \n",
      "335  0.572954  0.545628  0.476742  0.389142  0.248674  0.196513  0.000000  \n",
      "\n",
      "[336 rows x 336 columns]\n"
     ]
    }
   ],
   "source": [
    "adj_matrix = pd.DataFrame(adjacency_matrix.todense())\n",
    "print(adj_matrix)\n",
    "feather.write_dataframe(adj_matrix, \"data/adjacency_matrix_1id336tow.feather\")"
   ]
  },
  {
   "cell_type": "code",
   "execution_count": 79,
   "id": "03a3e356",
   "metadata": {},
   "outputs": [
    {
     "name": "stdout",
     "output_type": "stream",
     "text": [
      "1\n"
     ]
    }
   ],
   "source": [
    "# Radius selection\n",
    "from scipy.sparse.csgraph import connected_components\n",
    "\n",
    "rad1 = 0.4 # choose a small radius to start, but result in a fully connected graph\n",
    "# compute an adjacency matrix with a radius\n",
    "geom.adjacency_kwds = {'radius':rad1}\n",
    "adjacency_matrix = geom.compute_adjacency_matrix()\n",
    "# compute the corresponding affinity matrix\n",
    "geom.affinity_kwds = {'radius':rad1}\n",
    "affinity_matrix = geom.compute_affinity_matrix({'radius':rad1})\n",
    "(number_connected_components, labels) = connected_components(affinity_matrix)\n",
    "print(number_connected_components) # 1 means fully connected graph"
   ]
  },
  {
   "cell_type": "code",
   "execution_count": 99,
   "id": "be68d57c",
   "metadata": {},
   "outputs": [
    {
     "name": "stdout",
     "output_type": "stream",
     "text": [
      "[[0.         0.219312   0.33814413 ... 0.30562167 0.25297842 0.15449844]\n",
      " [0.219312   0.         0.17533853 ... 0.39265777 0.34066676 0.24842554]\n",
      " [0.33814413 0.17533853 0.         ... 0.         0.39865019 0.35306817]\n",
      " ...\n",
      " [0.30562167 0.39265777 0.         ... 0.         0.19197091 0.24867399]\n",
      " [0.25297842 0.34066676 0.39865019 ... 0.19197091 0.         0.19651321]\n",
      " [0.15449844 0.24842554 0.35306817 ... 0.24867399 0.19651321 0.        ]]\n"
     ]
    }
   ],
   "source": [
    "adjacency_matrix = geom.compute_adjacency_matrix()\n",
    "print(adjacency_matrix.todense())"
   ]
  },
  {
   "cell_type": "code",
   "execution_count": 100,
   "id": "a93a3b9e",
   "metadata": {},
   "outputs": [
    {
     "data": {
      "text/plain": [
       "(336, 336)"
      ]
     },
     "execution_count": 100,
     "metadata": {},
     "output_type": "execute_result"
    }
   ],
   "source": [
    "adjacency_matrix.shape"
   ]
  },
  {
   "cell_type": "markdown",
   "id": "949e669d",
   "metadata": {},
   "source": [
    "### Embedding\n",
    "\n",
    "The Isomap class functions as follows:\n",
    "\n",
    "- An existing Geometry object can be passed to .Isomap().\n",
    " \n",
    "- The .fit() method creates a Geometry object if one was not already passed and then calculates th embedding. \n",
    "    \n",
    "    The number of components and eigen solver can also be passed to the .fit() function. The .fit() function for Isomap  does not return anything but it does create the attribute self.embedding_. \n",
    "\n",
    "- The .fit_transform() function calls the fit() function and returns the embedding. It does not allow for changing parameters."
   ]
  },
  {
   "cell_type": "code",
   "execution_count": 80,
   "id": "56ab757f",
   "metadata": {},
   "outputs": [],
   "source": [
    "# select output dimension\n",
    "n_components = 2"
   ]
  },
  {
   "cell_type": "code",
   "execution_count": 81,
   "id": "a5b23a62",
   "metadata": {},
   "outputs": [
    {
     "name": "stderr",
     "output_type": "stream",
     "text": [
      "/Users/fche0019/miniconda3/envs/manifold_env/lib/python3.5/site-packages/sklearn/utils/validation.py:457: DeprecationWarning: Passing 'None' to parameter 'accept_sparse' in methods check_array and check_X_y is deprecated in version 0.19 and will be removed in 0.21. Use 'accept_sparse=False'  instead.\n",
      "  \" instead.\", DeprecationWarning)\n",
      "/Users/fche0019/miniconda3/envs/manifold_env/lib/python3.5/site-packages/sklearn/utils/validation.py:457: DeprecationWarning: Passing 'None' to parameter 'accept_sparse' in methods check_array and check_X_y is deprecated in version 0.19 and will be removed in 0.21. Use 'accept_sparse=False'  instead.\n",
      "  \" instead.\", DeprecationWarning)\n",
      "/Users/fche0019/miniconda3/envs/manifold_env/lib/python3.5/site-packages/sklearn/utils/validation.py:457: DeprecationWarning: Passing 'None' to parameter 'accept_sparse' in methods check_array and check_X_y is deprecated in version 0.19 and will be removed in 0.21. Use 'accept_sparse=False'  instead.\n",
      "  \" instead.\", DeprecationWarning)\n",
      "/Users/fche0019/miniconda3/envs/manifold_env/lib/python3.5/site-packages/sklearn/utils/validation.py:457: DeprecationWarning: Passing 'None' to parameter 'accept_sparse' in methods check_array and check_X_y is deprecated in version 0.19 and will be removed in 0.21. Use 'accept_sparse=False'  instead.\n",
      "  \" instead.\", DeprecationWarning)\n"
     ]
    }
   ],
   "source": [
    "# four embedding methods\n",
    "isomap = Isomap(n_components=n_components, eigen_solver='arpack',geom=geom)\n",
    "embed_isomap = isomap.fit_transform(X)\n",
    "\n",
    "lle = LocallyLinearEmbedding(n_components=n_components, eigen_solver='arpack',geom=geom)\n",
    "embed_lle = lle.fit_transform(X)\n",
    "\n",
    "ltsa = LTSA(n_components=n_components,eigen_solver='arpack',geom=geom)\n",
    "embed_ltsa = ltsa.fit_transform(X)\n",
    "\n",
    "spectral = SpectralEmbedding(n_components=3, eigen_solver='amg',geom=geom, drop_first=False) # use 3 for spectral\n",
    "embed_spectral = spectral.fit_transform(X)"
   ]
  },
  {
   "cell_type": "code",
   "execution_count": 82,
   "id": "ba96f32d",
   "metadata": {
    "scrolled": true
   },
   "outputs": [
    {
     "name": "stdout",
     "output_type": "stream",
     "text": [
      "[[-7.25335283e-02 -4.64506988e-01]\n",
      " [ 1.04645930e-01 -4.07341787e-01]\n",
      " [ 2.03827819e-01 -2.89545454e-01]\n",
      " [ 3.06526925e-01 -1.86241686e-01]\n",
      " [ 3.53787587e-01 -1.22003080e-01]\n",
      " [ 3.97761761e-01 -1.13577410e-01]\n",
      " [ 4.57331089e-01 -5.74114330e-02]\n",
      " [ 4.97124259e-01 -9.83901983e-02]\n",
      " [ 3.84402726e-01 -1.04261824e-01]\n",
      " [ 3.32064241e-01 -1.06065758e-01]\n",
      " [ 3.20263102e-01 -6.04827043e-02]\n",
      " [ 4.28812524e-01 -4.37224078e-02]\n",
      " [ 4.42888610e-01 -4.45271518e-02]\n",
      " [ 3.24648996e-01 -7.63776390e-02]\n",
      " [ 1.24986941e-01 -9.57895597e-02]\n",
      " [-1.15719154e-01 -1.12573559e-01]\n",
      " [-2.63055484e-01 -1.32373422e-02]\n",
      " [-1.51810955e-01  7.12343786e-02]\n",
      " [ 1.75095274e-02  1.18751697e-01]\n",
      " [ 1.61062512e-01  8.63841640e-02]\n",
      " [ 2.02724534e-01  6.21073929e-02]\n",
      " [ 1.84402668e-01  6.01919306e-02]\n",
      " [ 1.44215971e-01  7.48223462e-02]\n",
      " [ 1.25820811e-01  1.20475875e-01]\n",
      " [ 1.43019037e-01  1.90698439e-01]\n",
      " [ 1.17852744e-01  2.48113573e-01]\n",
      " [ 8.01172372e-02  2.41643183e-01]\n",
      " [ 4.75525949e-02  2.33278733e-01]\n",
      " [ 7.04411667e-02  1.97158337e-01]\n",
      " [ 1.13363074e-01  1.26766824e-01]\n",
      " [ 1.83534956e-01  2.40878150e-02]\n",
      " [ 1.98690670e-01  5.03781537e-03]\n",
      " [ 7.52059771e-02  9.99017366e-02]\n",
      " [-2.40313889e-02  1.72235509e-01]\n",
      " [-2.55439840e-01  3.02080881e-01]\n",
      " [-4.09954107e-01  4.75419241e-01]\n",
      " [-5.50323538e-01  4.91250494e-01]\n",
      " [-7.71098726e-01  4.21232279e-01]\n",
      " [-8.75913406e-01  1.20091028e-01]\n",
      " [-8.28798807e-01 -4.46928200e-02]\n",
      " [-7.95586683e-01 -1.27492821e-01]\n",
      " [-7.62230453e-01 -1.37386623e-01]\n",
      " [-7.26427613e-01 -2.32315232e-01]\n",
      " [-7.06026401e-01 -2.88138773e-01]\n",
      " [-6.17180761e-01 -3.41239451e-01]\n",
      " [-4.75125053e-01 -2.59734515e-01]\n",
      " [-3.48077756e-01 -3.39060039e-01]\n",
      " [-1.39078883e-01 -3.62071610e-01]\n",
      " [-5.70072839e-02 -3.80518117e-01]\n",
      " [ 2.19429337e-02 -4.70326658e-01]\n",
      " [ 1.75086482e-01 -3.60982410e-01]\n",
      " [ 3.32365158e-01 -2.34599474e-01]\n",
      " [ 4.60831992e-01 -1.93966244e-01]\n",
      " [ 5.52335289e-01 -1.35499667e-01]\n",
      " [ 5.86640132e-01 -8.68417024e-02]\n",
      " [ 5.86969084e-01 -7.87090380e-02]\n",
      " [ 4.51926099e-01 -7.19049082e-02]\n",
      " [ 3.88080792e-01 -1.30091230e-01]\n",
      " [ 3.93778208e-01 -8.60792921e-02]\n",
      " [ 4.86530265e-01 -2.06067280e-02]\n",
      " [ 4.60154511e-01  5.63487868e-03]\n",
      " [ 3.75781633e-01 -5.22295003e-02]\n",
      " [ 2.13717961e-01 -6.54465987e-02]\n",
      " [ 1.78604340e-02 -8.04434523e-02]\n",
      " [-9.61095700e-02 -4.37293621e-02]\n",
      " [ 4.46200397e-03  2.92555582e-02]\n",
      " [ 1.92100094e-01  9.35243548e-02]\n",
      " [ 3.53309420e-01  1.29864891e-01]\n",
      " [ 4.22318314e-01  1.70022925e-01]\n",
      " [ 3.77399835e-01  1.79231971e-01]\n",
      " [ 2.91350890e-01  2.32924768e-01]\n",
      " [ 2.64020527e-01  3.17293103e-01]\n",
      " [ 2.55989871e-01  3.88399379e-01]\n",
      " [ 1.72891663e-01  3.72657353e-01]\n",
      " [ 1.22855113e-01  2.82049560e-01]\n",
      " [ 1.06511394e-01  2.44860087e-01]\n",
      " [ 1.31839916e-01  1.74968640e-01]\n",
      " [ 1.74725837e-01  1.26917225e-01]\n",
      " [ 2.16259290e-01  8.05947882e-02]\n",
      " [ 1.79260424e-01  9.29461282e-02]\n",
      " [ 9.28599745e-02  1.19210293e-01]\n",
      " [-2.81104637e-02  2.47966181e-01]\n",
      " [-1.58770911e-01  3.48518097e-01]\n",
      " [-3.61650397e-01  4.54687902e-01]\n",
      " [-5.66288270e-01  4.01678130e-01]\n",
      " [-6.61008809e-01  3.47198693e-01]\n",
      " [-6.79588648e-01  3.82171764e-02]\n",
      " [-6.58943222e-01 -9.41452156e-02]\n",
      " [-7.63223443e-01 -1.98465002e-01]\n",
      " [-7.41037335e-01 -2.64029443e-01]\n",
      " [-7.21737457e-01 -2.12207628e-01]\n",
      " [-7.07743181e-01 -2.05589699e-01]\n",
      " [-6.36382455e-01 -1.69593473e-01]\n",
      " [-5.82077486e-01 -2.67766559e-01]\n",
      " [-4.60714959e-01 -4.06083235e-01]\n",
      " [-2.32947130e-01 -3.69568013e-01]\n",
      " [-1.03915991e-01 -4.26263035e-01]\n",
      " [ 1.13572952e-01 -4.00870331e-01]\n",
      " [ 2.73348571e-01 -3.82466616e-01]\n",
      " [ 3.80588784e-01 -3.05474525e-01]\n",
      " [ 4.63447425e-01 -1.82546789e-01]\n",
      " [ 4.91052244e-01 -1.00785872e-01]\n",
      " [ 5.00644178e-01 -9.73646041e-02]\n",
      " [ 5.41830793e-01 -1.06406176e-01]\n",
      " [ 4.26489857e-01 -9.75246815e-02]\n",
      " [ 3.51629488e-01 -1.34362222e-01]\n",
      " [ 3.69644544e-01 -1.08799789e-01]\n",
      " [ 4.71094255e-01 -9.87125862e-02]\n",
      " [ 4.50744428e-01  2.07586206e-02]\n",
      " [ 2.94731420e-01 -1.86531327e-02]\n",
      " [ 1.39333251e-01 -2.35953801e-02]\n",
      " [-5.96329924e-02 -1.56359561e-01]\n",
      " [-1.71027370e-01 -1.17954018e-01]\n",
      " [ 1.45637508e-02  6.06179847e-03]\n",
      " [ 2.01914554e-01  7.67038701e-02]\n",
      " [ 3.56637712e-01  7.06057573e-02]\n",
      " [ 3.51456984e-01  7.24541694e-02]\n",
      " [ 2.81963108e-01  9.17507299e-02]\n",
      " [ 2.04555302e-01  1.37096401e-01]\n",
      " [ 1.77023160e-01  1.75342000e-01]\n",
      " [ 1.53752372e-01  2.19727684e-01]\n",
      " [ 1.96173505e-01  2.34997152e-01]\n",
      " [ 2.02438089e-01  2.46927070e-01]\n",
      " [ 1.80087170e-01  2.32056518e-01]\n",
      " [ 1.41184729e-01  1.58037664e-01]\n",
      " [ 1.15590878e-01  8.90882196e-02]\n",
      " [ 1.13830059e-01  2.89805472e-02]\n",
      " [ 1.06644228e-01  4.02859269e-02]\n",
      " [ 4.96989779e-02  1.33465805e-01]\n",
      " [-3.36373600e-02  2.04033757e-01]\n",
      " [-2.08537343e-01  2.90652204e-01]\n",
      " [-3.80184679e-01  4.05141946e-01]\n",
      " [-5.61928781e-01  4.35396770e-01]\n",
      " [-8.34579000e-01  3.42059032e-01]\n",
      " [-9.62325355e-01  7.72523616e-02]\n",
      " [-8.48718547e-01 -4.54476149e-02]\n",
      " [-7.94363746e-01 -1.50304569e-01]\n",
      " [-6.49052725e-01 -1.28960488e-01]\n",
      " [-7.30933908e-01 -2.21839292e-01]\n",
      " [-7.25124775e-01 -2.35086957e-01]\n",
      " [-5.99074616e-01 -1.98341807e-01]\n",
      " [-4.77466537e-01 -2.43612652e-01]\n",
      " [-3.51926235e-01 -3.70640847e-01]\n",
      " [-2.00138724e-01 -5.66053643e-01]\n",
      " [-1.09740771e-01 -5.01121386e-01]\n",
      " [-2.13675618e-02 -4.71434580e-01]\n",
      " [ 1.20732311e-01 -3.96812893e-01]\n",
      " [ 2.91210708e-01 -3.49367410e-01]\n",
      " [ 4.23967122e-01 -1.99912770e-01]\n",
      " [ 4.78809273e-01 -1.38617442e-01]\n",
      " [ 5.02561922e-01 -1.07650142e-01]\n",
      " [ 5.06706648e-01 -1.23521055e-01]\n",
      " [ 3.82115790e-01 -8.51380305e-02]\n",
      " [ 3.72626104e-01 -1.09017515e-01]\n",
      " [ 3.75338856e-01 -5.21979087e-02]\n",
      " [ 4.39674646e-01  2.65880227e-02]\n",
      " [ 3.93285431e-01  8.61904169e-02]\n",
      " [ 2.83262871e-01  6.18577101e-02]\n",
      " [ 1.36128679e-01  3.01243533e-03]\n",
      " [-2.00244045e-02  1.10057682e-02]\n",
      " [-1.34231508e-01  1.41544232e-02]\n",
      " [-6.14235495e-02  6.96045552e-02]\n",
      " [ 1.65135517e-01  9.73838613e-02]\n",
      " [ 2.92416061e-01  9.39865149e-02]\n",
      " [ 3.62144889e-01  1.29473353e-01]\n",
      " [ 2.56536237e-01  1.26786692e-01]\n",
      " [ 2.14203254e-01  1.07956566e-01]\n",
      " [ 1.94237122e-01  2.32814352e-01]\n",
      " [ 2.44437892e-01  3.39643862e-01]\n",
      " [ 1.85225894e-01  2.93018259e-01]\n",
      " [ 1.16874624e-01  2.24387864e-01]\n",
      " [ 2.65053584e-02  1.75363930e-01]\n",
      " [ 3.25602573e-02  1.64942982e-01]\n",
      " [ 4.51853215e-02  1.52001089e-01]\n",
      " [ 1.39413228e-01  1.22223957e-01]\n",
      " [ 1.78802183e-01  1.07848647e-01]\n",
      " [ 1.64704303e-01  1.30545853e-01]\n",
      " [ 4.72923681e-02  2.13271133e-01]\n",
      " [-4.69036883e-02  3.25683948e-01]\n",
      " [-3.28729049e-01  4.89625129e-01]\n",
      " [-5.61570187e-01  4.53674092e-01]\n",
      " [-7.72106706e-01  4.10654601e-01]\n",
      " [-8.35194925e-01  1.30026415e-01]\n",
      " [-5.76495059e-01  7.33321080e-02]\n",
      " [-4.95951369e-01 -2.30903763e-02]\n",
      " [-5.40481294e-01 -5.80244630e-02]\n",
      " [-5.41714975e-01 -6.53185876e-02]\n",
      " [-5.14263617e-01 -1.00849324e-01]\n",
      " [-4.98869616e-01 -1.87294288e-01]\n",
      " [-4.21660016e-01 -3.04278572e-01]\n",
      " [-3.51879852e-01 -3.75403733e-01]\n",
      " [-2.26246920e-01 -4.47888627e-01]\n",
      " [-9.81074430e-02 -4.27905343e-01]\n",
      " [ 9.88035330e-02 -3.96374384e-01]\n",
      " [ 2.15984360e-01 -3.50768986e-01]\n",
      " [ 3.21120764e-01 -2.69000822e-01]\n",
      " [ 4.17454729e-01 -2.22665134e-01]\n",
      " [ 5.11065909e-01 -1.46443269e-01]\n",
      " [ 6.23290104e-01 -1.14753021e-01]\n",
      " [ 6.29373962e-01 -9.93704199e-02]\n",
      " [ 4.32234451e-01 -8.52475754e-02]\n",
      " [ 3.60630994e-01 -9.77668835e-02]\n",
      " [ 3.54739690e-01 -8.25813361e-02]\n",
      " [ 4.36215164e-01 -4.65562629e-02]\n",
      " [ 4.58444894e-01 -5.52541581e-02]\n",
      " [ 3.01470832e-01 -1.00507932e-01]\n",
      " [ 1.65093116e-01 -1.42648935e-01]\n",
      " [-4.15522634e-02 -1.86827935e-01]\n",
      " [-1.15975449e-01 -6.16578495e-02]\n",
      " [ 3.57392706e-02  7.93003740e-02]\n",
      " [ 2.48653999e-01  1.90367042e-01]\n",
      " [ 4.12905468e-01  1.63305190e-01]\n",
      " [ 4.06076429e-01  1.90079583e-01]\n",
      " [ 3.27562625e-01  1.89728803e-01]\n",
      " [ 2.97777430e-01  2.47745967e-01]\n",
      " [ 2.89774676e-01  2.69865702e-01]\n",
      " [ 2.62597286e-01  3.49470417e-01]\n",
      " [ 1.87700880e-01  3.97929926e-01]\n",
      " [ 1.28725635e-01  3.98792047e-01]\n",
      " [ 8.35733411e-02  2.75621583e-01]\n",
      " [ 1.11775529e-01  2.31275275e-01]\n",
      " [ 1.63107912e-01  1.24290493e-01]\n",
      " [ 1.78069081e-01  6.13333045e-02]\n",
      " [ 1.17958362e-01  4.60270719e-02]\n",
      " [ 8.07991182e-02  9.68385163e-02]\n",
      " [ 4.97306374e-02  1.68897679e-01]\n",
      " [-5.35975028e-02  3.24431684e-01]\n",
      " [-1.58163374e-01  4.81784761e-01]\n",
      " [-3.22517562e-01  4.74174994e-01]\n",
      " [-4.95604826e-01  4.14609240e-01]\n",
      " [-6.29131438e-01  1.31325815e-01]\n",
      " [-6.40231718e-01  9.10996152e-03]\n",
      " [-6.01499942e-01 -6.06236314e-02]\n",
      " [-6.33460960e-01 -1.64760776e-01]\n",
      " [-6.77331219e-01 -3.52064030e-01]\n",
      " [-6.66133773e-01 -3.66723561e-01]\n",
      " [-7.12629371e-01 -3.65781051e-01]\n",
      " [-6.44490022e-01 -3.70924069e-01]\n",
      " [-4.91899525e-01 -2.55180324e-01]\n",
      " [-3.68517797e-01 -3.00588122e-01]\n",
      " [-2.14940289e-01 -3.53276226e-01]\n",
      " [-6.62990625e-02 -3.31516338e-01]\n",
      " [ 8.87287364e-02 -3.37349252e-01]\n",
      " [ 2.34792078e-01 -3.70666437e-01]\n",
      " [ 3.47508922e-01 -3.39083260e-01]\n",
      " [ 4.75743476e-01 -2.50390143e-01]\n",
      " [ 5.43092185e-01 -2.05332945e-01]\n",
      " [ 5.65678650e-01 -1.61156742e-01]\n",
      " [ 5.77399238e-01 -1.04845414e-01]\n",
      " [ 5.67090669e-01 -7.30681680e-02]\n",
      " [ 5.81819171e-01 -8.20091599e-02]\n",
      " [ 5.08212485e-01 -4.87669185e-02]\n",
      " [ 4.25453931e-01 -5.45170355e-02]\n",
      " [ 2.72815820e-01 -7.28763362e-02]\n",
      " [ 1.60330558e-01 -8.26021286e-02]\n",
      " [-1.49850133e-03 -1.44018894e-01]\n",
      " [-3.53429244e-02 -1.56189919e-01]\n",
      " [ 3.59509761e-02 -4.86835574e-03]\n",
      " [ 1.38187180e-01  7.81323483e-02]\n",
      " [ 1.82515015e-01  1.62965827e-01]\n",
      " [ 1.96368820e-01  1.31167784e-01]\n",
      " [ 1.13607378e-01  9.54455563e-02]\n",
      " [ 5.03108124e-02  1.35334543e-01]\n",
      " [ 3.30548490e-02  1.66140832e-01]\n",
      " [ 5.57650579e-02  1.79401883e-01]\n",
      " [ 7.10537720e-02  1.75770664e-01]\n",
      " [ 9.73526319e-02  1.83699551e-01]\n",
      " [ 1.20254510e-01  2.14640670e-01]\n",
      " [ 7.94069972e-02  1.75265052e-01]\n",
      " [ 5.88604494e-02  1.29838245e-01]\n",
      " [ 3.49892809e-02  1.31544262e-01]\n",
      " [ 8.35944308e-03  1.64929987e-01]\n",
      " [-8.03559620e-02  2.37561840e-01]\n",
      " [-2.53570016e-01  2.62540778e-01]\n",
      " [-3.23580391e-01  4.79835342e-01]\n",
      " [-5.05756746e-01  4.67729620e-01]\n",
      " [-5.77676059e-01  4.36739245e-01]\n",
      " [-7.24443361e-01  3.07066418e-01]\n",
      " [-6.59825031e-01  1.30746048e-01]\n",
      " [-6.43981158e-01  6.09027898e-02]\n",
      " [-6.51639862e-01  2.58708989e-02]\n",
      " [-7.51153971e-01 -1.49865890e-04]\n",
      " [-7.54122827e-01 -1.13913237e-01]\n",
      " [-7.04550454e-01 -2.43301348e-01]\n",
      " [-5.47835653e-01 -3.57575647e-01]\n",
      " [-2.58113718e-01 -4.45954939e-01]\n",
      " [-1.35208057e-01 -4.52968343e-01]\n",
      " [ 4.52974817e-02 -4.12994734e-01]\n",
      " [ 1.62644537e-01 -3.88864625e-01]\n",
      " [ 2.19822421e-01 -3.58296305e-01]\n",
      " [ 3.07262188e-01 -3.74100146e-01]\n",
      " [ 3.41758634e-01 -3.01388627e-01]\n",
      " [ 3.98928419e-01 -2.34727744e-01]\n",
      " [ 4.56380161e-01 -9.75933495e-02]\n",
      " [ 5.39125635e-01 -8.94982633e-02]\n",
      " [ 6.42491167e-01 -8.50202483e-02]\n",
      " [ 6.46717321e-01 -7.78908469e-02]\n",
      " [ 6.53599424e-01 -6.99831245e-02]\n",
      " [ 6.67834976e-01 -3.42137660e-02]\n",
      " [ 6.58284326e-01 -4.07305250e-02]\n",
      " [ 5.63920760e-01 -5.65252043e-02]\n",
      " [ 3.60989684e-01 -3.63741290e-02]\n",
      " [ 2.42161022e-01 -2.97624537e-02]\n",
      " [ 9.38482253e-02 -2.60812500e-02]\n",
      " [-4.63955745e-02  2.06437850e-02]\n",
      " [-1.50725045e-01 -5.29890063e-04]\n",
      " [-4.77525929e-02  1.60762606e-01]\n",
      " [ 3.02884132e-02  1.65676630e-01]\n",
      " [ 7.42782348e-02  1.92239483e-01]\n",
      " [ 9.09265429e-02  1.55377215e-01]\n",
      " [ 1.28060931e-01  1.87519213e-01]\n",
      " [ 1.80861293e-01  2.06223547e-01]\n",
      " [ 2.01189812e-01  2.77826826e-01]\n",
      " [ 2.03502237e-01  2.94962630e-01]\n",
      " [ 2.26471803e-01  2.82186655e-01]\n",
      " [ 2.09330674e-01  2.13831558e-01]\n",
      " [ 2.04716931e-01  1.70997745e-01]\n",
      " [ 2.39529695e-01  1.95568904e-01]\n",
      " [ 2.40950071e-01  2.08834002e-01]\n",
      " [ 2.13403548e-01  2.23227479e-01]\n",
      " [ 1.25140951e-01  2.41854810e-01]\n",
      " [ 6.74703447e-02  4.11488305e-01]\n",
      " [-6.93378876e-02  5.17060809e-01]\n",
      " [-2.45367635e-01  5.94725682e-01]\n",
      " [-4.20636011e-01  5.35713457e-01]\n",
      " [-7.68653675e-01  4.39318222e-01]\n",
      " [-8.70818712e-01  2.17585781e-01]\n",
      " [-8.63816454e-01  1.22376302e-01]\n",
      " [-8.35559249e-01 -4.26348099e-02]\n",
      " [-7.77077279e-01 -2.20708332e-01]\n",
      " [-7.51236926e-01 -2.93842557e-01]\n",
      " [-6.62879252e-01 -3.63540874e-01]\n",
      " [-5.45050429e-01 -3.49221887e-01]\n",
      " [-3.04154713e-01 -3.79563504e-01]\n",
      " [-1.85536101e-01 -4.21891055e-01]\n",
      " [-1.25931230e-01 -4.44769640e-01]]\n"
     ]
    }
   ],
   "source": [
    "print(embed_isomap)"
   ]
  },
  {
   "cell_type": "markdown",
   "id": "e09b914e",
   "metadata": {},
   "source": [
    "## Save embedding output as .npy or dataframe as .feather"
   ]
  },
  {
   "cell_type": "code",
   "execution_count": 83,
   "id": "cc64d8cf",
   "metadata": {},
   "outputs": [],
   "source": [
    "emb_isomap = pd.DataFrame(embed_isomap)\n",
    "emb_lle = pd.DataFrame(embed_lle)\n",
    "emb_ltsa = pd.DataFrame(embed_ltsa)\n",
    "emb_spectral = pd.DataFrame(embed_spectral)\n",
    "feather.write_dataframe(emb_isomap, \"data/embedding_isomap_1id336tow.feather\")\n",
    "feather.write_dataframe(emb_lle, \"data/embedding_lle_1id336tow.feather\")\n",
    "feather.write_dataframe(emb_ltsa, \"data/embedding_ltsa_1id336tow.feather\")\n",
    "feather.write_dataframe(emb_spectral, \"data/embedding_spectral_1id336tow.feather\")"
   ]
  },
  {
   "cell_type": "code",
   "execution_count": 84,
   "id": "fbf264e1",
   "metadata": {},
   "outputs": [],
   "source": [
    "np.save(\"data/embedding_isomap_1id336tow.npy\", emb_isomap)\n",
    "np.save(\"data/embedding_lle_1id336tow.npy\", embed_lle)\n",
    "np.save(\"data/embedding_ltsa_1id336tow.npy\", embed_ltsa)\n",
    "np.save(\"data/embedding_spectral_1id336tow.npy\", embed_spectral)"
   ]
  },
  {
   "cell_type": "markdown",
   "id": "53deee22",
   "metadata": {},
   "source": [
    "### Embedding 2-D plots"
   ]
  },
  {
   "cell_type": "code",
   "execution_count": 85,
   "id": "9c06bf08",
   "metadata": {},
   "outputs": [
    {
     "data": {
      "image/png": "[encoded data removed]",
      "text/plain": [
       "<Figure size 432x288 with 4 Axes>"
      ]
     },
     "metadata": {
      "needs_background": "light"
     },
     "output_type": "display_data"
    }
   ],
   "source": [
    "fig, axes = plt.subplots(nrows=2, ncols=2)\n",
    "color = \"black\"\n",
    "axes[0, 0].scatter(embed_ltsa[:, 0], embed_ltsa[:, 1], s=1, c=color)\n",
    "axes[0, 0].set_title('LTSA')\n",
    "axes[0, 1].scatter(embed_lle[:, 0], embed_lle[:, 1], s=1, c=color)\n",
    "axes[0, 1].set_title('LLE')\n",
    "axes[1, 0].scatter(embed_isomap[:, 0], embed_isomap[:, 1], s=1, c=color)\n",
    "axes[1, 0].set_title('Isomap')\n",
    "axes[1, 1].scatter(embed_spectral[:, 0], embed_spectral[:, 1], s=1, c=color)\n",
    "axes[1, 1].set_title('Spectral Embedding')\n",
    "plt.show()"
   ]
  },
  {
   "cell_type": "markdown",
   "id": "27f42ad8",
   "metadata": {},
   "source": [
    "# Riemannian metric\n",
    "\n",
    "To compute a R. Metric you will need an embedding and a Laplacian.\n",
    "\n",
    "If you plan to estimate the Riemannian Metric then when you compute the Laplacian for best results you should use **laplacian_method = 'geometric'** and set the keyword parameter 'scaling_epps' to the 'radius' that was used in the affinity method."
   ]
  },
  {
   "cell_type": "code",
   "execution_count": 86,
   "id": "22df5a17",
   "metadata": {},
   "outputs": [],
   "source": [
    "geom.laplacian_method = 'geometric'\n",
    "geom.laplacian_kwds = {'scaling_epps':radius} # scaling ensures convergence to Laplace-Beltrami operator\n",
    "laplacian_matrix = geom.compute_laplacian_matrix()"
   ]
  },
  {
   "cell_type": "markdown",
   "id": "61f2c11f",
   "metadata": {},
   "source": [
    "**The `H` matrix is the inverse of the Riemmanian matrix `R`**, both matrix has the dimension of N\\*d\\*d, where `N` is the `len(X)` and `d` is the embedding dimension. "
   ]
  },
  {
   "cell_type": "code",
   "execution_count": 87,
   "id": "0d7c3613",
   "metadata": {},
   "outputs": [],
   "source": [
    "# Estimate Riemannian metric for all four methods\n",
    "# from megaman.geometry.rmetric import RiemannMetric\n",
    "\n",
    "rmetric_spectral = RiemannMetric(embed_spectral, geom.laplacian_matrix)\n",
    "H_spectral = rmetric_spectral.get_dual_rmetric()\n",
    "\n",
    "rmetric_ltsa = RiemannMetric(embed_ltsa, geom.laplacian_matrix)\n",
    "H_ltsa = rmetric_ltsa.get_dual_rmetric()\n",
    "\n",
    "rmetric_lle = RiemannMetric(embed_lle, geom.laplacian_matrix)\n",
    "H_lle = rmetric_lle.get_dual_rmetric()\n",
    "\n",
    "rmetric_isomap = RiemannMetric(embed_isomap, geom.laplacian_matrix)\n",
    "H_isomap = rmetric_isomap.get_dual_rmetric()"
   ]
  },
  {
   "cell_type": "code",
   "execution_count": 88,
   "id": "cb602272",
   "metadata": {},
   "outputs": [
    {
     "name": "stdout",
     "output_type": "stream",
     "text": [
      "2\n"
     ]
    }
   ],
   "source": [
    "# The dimension of the array is N*d*d, where d is the embedding dimension\n",
    "print(rmetric_isomap.get_mdimG())"
   ]
  },
  {
   "cell_type": "code",
   "execution_count": 89,
   "id": "678223e3",
   "metadata": {},
   "outputs": [
    {
     "name": "stdout",
     "output_type": "stream",
     "text": [
      "[[[ 0.06025164  0.00070189]\n",
      "  [ 0.00070189  0.02796754]]\n",
      "\n",
      " [[ 0.08321241  0.01819142]\n",
      "  [ 0.01819142  0.04798884]]\n",
      "\n",
      " [[ 0.07824784  0.02645964]\n",
      "  [ 0.02645964  0.07272921]]\n",
      "\n",
      " [[ 0.06028711  0.00615301]\n",
      "  [ 0.00615301  0.07074619]]\n",
      "\n",
      " [[ 0.05780968 -0.00771093]\n",
      "  [-0.00771093  0.05892464]]]\n"
     ]
    }
   ],
   "source": [
    "print(H_isomap[:5, :]) # N*2*2 array"
   ]
  },
  {
   "cell_type": "code",
   "execution_count": 90,
   "id": "117190c2",
   "metadata": {},
   "outputs": [
    {
     "data": {
      "text/plain": [
       "array([[[16.60191198, -0.41665409],\n",
       "        [-0.41665409, 35.76619947]],\n",
       "\n",
       "       [[13.10333039, -4.96715806],\n",
       "        [-4.96715806, 22.72110713]],\n",
       "\n",
       "       [[14.5726827 , -5.30169382],\n",
       "        [-5.30169382, 15.67844575]]])"
      ]
     },
     "execution_count": 90,
     "metadata": {},
     "output_type": "execute_result"
    }
   ],
   "source": [
    "R_isomap = rmetric_isomap.get_rmetric() # N*2*2 array\n",
    "R_isomap[:3, :]"
   ]
  },
  {
   "cell_type": "code",
   "execution_count": 91,
   "id": "27dc2221",
   "metadata": {},
   "outputs": [
    {
     "name": "stdout",
     "output_type": "stream",
     "text": [
      "[[[16.60191198 -0.41665409]\n",
      "  [-0.41665409 35.76619947]]\n",
      "\n",
      " [[13.10333039 -4.96715806]\n",
      "  [-4.96715806 22.72110713]]\n",
      "\n",
      " [[14.5726827  -5.30169382]\n",
      "  [-5.30169382 15.67844575]]]\n"
     ]
    },
    {
     "data": {
      "text/plain": [
       "False"
      ]
     },
     "execution_count": 91,
     "metadata": {},
     "output_type": "execute_result"
    }
   ],
   "source": [
    "H_inverse = np.linalg.inv(H_isomap)\n",
    "print(H_inverse[:3, :])\n",
    "np.array_equal(H_inverse, R_isomap)"
   ]
  },
  {
   "cell_type": "markdown",
   "id": "d79e6981",
   "metadata": {},
   "source": [
    "## Export the inverse of Riemannian matrix, H matrix\n",
    "\n",
    "The Numpy binary .npy can then be read in R using the `reticulate` package. "
   ]
  },
  {
   "cell_type": "code",
   "execution_count": 92,
   "id": "aa6345fc",
   "metadata": {},
   "outputs": [],
   "source": [
    "np.save(\"data/hmatrix_isomap_1id336tow.npy\", H_isomap)\n",
    "np.save(\"data/hmatrix_lle_1id336tow.npy\", H_lle)\n",
    "np.save(\"data/hmatrix_ltsa_1id336tow.npy\", H_ltsa)\n",
    "np.save(\"data/hmatrix_spectral_1id336tow.npy\", H_spectral)"
   ]
  },
  {
   "cell_type": "markdown",
   "id": "c5248f71",
   "metadata": {},
   "source": [
    "## Plot distortion\n",
    "\n",
    "Use the *cover_plotter* module included in megaman to plot a subset of the points as ellipses representing the distortion"
   ]
  },
  {
   "cell_type": "code",
   "execution_count": 93,
   "id": "2334f7ed",
   "metadata": {
    "scrolled": false
   },
   "outputs": [],
   "source": [
    "# from megaman.utils.covar_plotter import plot_cov_ellipse\n",
    "n_plot = 10 # number of ellipse to be plotted\n",
    "rng = np.random.RandomState(8675309)\n",
    "sample_points = rng.choice(range(N), n_plot, replace = False)"
   ]
  },
  {
   "cell_type": "code",
   "execution_count": 94,
   "id": "4935bdbf",
   "metadata": {},
   "outputs": [
    {
     "data": {
      "image/png": "[encoded data removed]",
      "text/plain": [
       "<Figure size 432x288 with 1 Axes>"
      ]
     },
     "metadata": {
      "needs_background": "light"
     },
     "output_type": "display_data"
    }
   ],
   "source": [
    "# Isomap\n",
    "f, ax = plt.subplots()\n",
    "ax.scatter(embed_isomap[:, 0], embed_isomap[:, 1], s = 1)\n",
    "ax.set_aspect('equal') # if an ellipse is a circle no distortion occured. \n",
    "for i in range(n_plot):\n",
    "    ii = sample_points[i]\n",
    "    cov = H_isomap[ii, :, :]\n",
    "    plot_cov_ellipse(cov*0.01, embed_isomap[ii, :] ,ax=ax, edgecolor='none', alpha = 0.5) # tune cov*0.1 to change the ellipse size\n",
    "plt.show()"
   ]
  },
  {
   "cell_type": "code",
   "execution_count": 95,
   "id": "845917ef",
   "metadata": {},
   "outputs": [
    {
     "data": {
      "image/png": "[encoded data removed]",
      "text/plain": [
       "<Figure size 432x288 with 1 Axes>"
      ]
     },
     "metadata": {
      "needs_background": "light"
     },
     "output_type": "display_data"
    }
   ],
   "source": [
    "# LLE embedding\n",
    "f, ax = plt.subplots()\n",
    "ax.scatter(embed_lle[:, 0], embed_lle[:, 1], s = 1)\n",
    "ax.set_aspect('equal') # if an ellipse is a circle no distortion occured. \n",
    "for i in range(n_plot):\n",
    "    ii = sample_points[i]\n",
    "    cov = H_lle[ii, :, :]\n",
    "    plot_cov_ellipse(cov*0.1, embed_lle[ii,:] ,ax=ax, edgecolor='none', alpha = 0.5)\n",
    "plt.show()"
   ]
  },
  {
   "cell_type": "code",
   "execution_count": 96,
   "id": "d695d989",
   "metadata": {},
   "outputs": [
    {
     "data": {
      "image/png": "[encoded data removed]",
      "text/plain": [
       "<Figure size 432x288 with 1 Axes>"
      ]
     },
     "metadata": {
      "needs_background": "light"
     },
     "output_type": "display_data"
    }
   ],
   "source": [
    "# LTSA embedding\n",
    "f, ax = plt.subplots()\n",
    "ax.scatter(embed_ltsa[:, 0], embed_ltsa[:, 1], s = 1)\n",
    "ax.set_aspect('equal') # if an ellipse is a circle no distortion occured. \n",
    "for i in range(n_plot):\n",
    "    ii = sample_points[i]\n",
    "    cov = H_ltsa[ii, :, :]\n",
    "    plot_cov_ellipse(cov*0.05, embed_ltsa[ii,:] ,ax=ax, edgecolor='none', alpha = 0.5)\n",
    "plt.show()"
   ]
  },
  {
   "cell_type": "code",
   "execution_count": 97,
   "id": "a24cf017",
   "metadata": {},
   "outputs": [
    {
     "ename": "TypeError",
     "evalue": "return arrays must be of ArrayType",
     "output_type": "error",
     "traceback": [
      "\u001b[0;31m---------------------------------------------------------------------------\u001b[0m",
      "\u001b[0;31mTypeError\u001b[0m                                 Traceback (most recent call last)",
      "\u001b[0;32m<ipython-input-97-a4e5f49e9d03>\u001b[0m in \u001b[0;36m<module>\u001b[0;34m()\u001b[0m\n\u001b[1;32m      6\u001b[0m     \u001b[0mii\u001b[0m \u001b[0;34m=\u001b[0m \u001b[0msample_points\u001b[0m\u001b[0;34m[\u001b[0m\u001b[0mi\u001b[0m\u001b[0;34m]\u001b[0m\u001b[0;34m\u001b[0m\u001b[0m\n\u001b[1;32m      7\u001b[0m     \u001b[0mcov\u001b[0m \u001b[0;34m=\u001b[0m \u001b[0mH_spectral\u001b[0m\u001b[0;34m[\u001b[0m\u001b[0mii\u001b[0m\u001b[0;34m,\u001b[0m \u001b[0;34m:\u001b[0m\u001b[0;34m,\u001b[0m \u001b[0;34m:\u001b[0m\u001b[0;34m]\u001b[0m\u001b[0;34m\u001b[0m\u001b[0m\n\u001b[0;32m----> 8\u001b[0;31m     \u001b[0mplot_cov_ellipse\u001b[0m\u001b[0;34m(\u001b[0m\u001b[0mcov\u001b[0m\u001b[0;34m*\u001b[0m\u001b[0;36m0.01\u001b[0m\u001b[0;34m,\u001b[0m \u001b[0membed_spectral\u001b[0m\u001b[0;34m[\u001b[0m\u001b[0mii\u001b[0m\u001b[0;34m,\u001b[0m\u001b[0;34m:\u001b[0m\u001b[0;34m]\u001b[0m \u001b[0;34m,\u001b[0m\u001b[0max\u001b[0m\u001b[0;34m=\u001b[0m\u001b[0max\u001b[0m\u001b[0;34m,\u001b[0m \u001b[0medgecolor\u001b[0m\u001b[0;34m=\u001b[0m\u001b[0;34m'none'\u001b[0m\u001b[0;34m,\u001b[0m \u001b[0malpha\u001b[0m \u001b[0;34m=\u001b[0m \u001b[0;36m0.5\u001b[0m\u001b[0;34m)\u001b[0m\u001b[0;34m\u001b[0m\u001b[0m\n\u001b[0m\u001b[1;32m      9\u001b[0m \u001b[0mplt\u001b[0m\u001b[0;34m.\u001b[0m\u001b[0mshow\u001b[0m\u001b[0;34m(\u001b[0m\u001b[0;34m)\u001b[0m\u001b[0;34m\u001b[0m\u001b[0m\n",
      "\u001b[0;32m/Users/fche0019/miniconda3/envs/manifold_env/lib/python3.5/site-packages/megaman/utils/covar_plotter.py\u001b[0m in \u001b[0;36mplot_cov_ellipse\u001b[0;34m(cov, pos, nstd, ax, **kwargs)\u001b[0m\n\u001b[1;32m     58\u001b[0m \u001b[0;34m\u001b[0m\u001b[0m\n\u001b[1;32m     59\u001b[0m     \u001b[0mvals\u001b[0m\u001b[0;34m,\u001b[0m \u001b[0mvecs\u001b[0m \u001b[0;34m=\u001b[0m \u001b[0meigsorted\u001b[0m\u001b[0;34m(\u001b[0m\u001b[0mcov\u001b[0m\u001b[0;34m)\u001b[0m\u001b[0;34m\u001b[0m\u001b[0m\n\u001b[0;32m---> 60\u001b[0;31m     \u001b[0mtheta\u001b[0m \u001b[0;34m=\u001b[0m \u001b[0mnp\u001b[0m\u001b[0;34m.\u001b[0m\u001b[0mdegrees\u001b[0m\u001b[0;34m(\u001b[0m\u001b[0mnp\u001b[0m\u001b[0;34m.\u001b[0m\u001b[0marctan2\u001b[0m\u001b[0;34m(\u001b[0m\u001b[0;34m*\u001b[0m\u001b[0mvecs\u001b[0m\u001b[0;34m[\u001b[0m\u001b[0;34m:\u001b[0m\u001b[0;34m,\u001b[0m\u001b[0;36m0\u001b[0m\u001b[0;34m]\u001b[0m\u001b[0;34m[\u001b[0m\u001b[0;34m:\u001b[0m\u001b[0;34m:\u001b[0m\u001b[0;34m-\u001b[0m\u001b[0;36m1\u001b[0m\u001b[0;34m]\u001b[0m\u001b[0;34m)\u001b[0m\u001b[0;34m)\u001b[0m\u001b[0;34m\u001b[0m\u001b[0m\n\u001b[0m\u001b[1;32m     61\u001b[0m \u001b[0;34m\u001b[0m\u001b[0m\n\u001b[1;32m     62\u001b[0m     \u001b[0;31m# Width and height are \"full\" widths, not radius\u001b[0m\u001b[0;34m\u001b[0m\u001b[0;34m\u001b[0m\u001b[0m\n",
      "\u001b[0;31mTypeError\u001b[0m: return arrays must be of ArrayType"
     ]
    },
    {
     "data": {
      "image/png": "[encoded data removed]",
      "text/plain": [
       "<Figure size 432x288 with 1 Axes>"
      ]
     },
     "metadata": {
      "needs_background": "light"
     },
     "output_type": "display_data"
    }
   ],
   "source": [
    "# Spectral embedding\n",
    "f, ax = plt.subplots()\n",
    "ax.scatter(embed_spectral[:, 0], embed_spectral[:, 1], s = 1)\n",
    "ax.set_aspect('equal') # if an ellipse is a circle no distortion occured. \n",
    "for i in range(n_plot):\n",
    "    ii = sample_points[i]\n",
    "    cov = H_spectral[ii, :, :]\n",
    "    plot_cov_ellipse(cov*0.01, embed_spectral[ii,:] ,ax=ax, edgecolor='none', alpha = 0.5)\n",
    "plt.show()"
   ]
  },
  {
   "cell_type": "code",
   "execution_count": null,
   "id": "c831fa7f",
   "metadata": {},
   "outputs": [],
   "source": []
  }
 ],
 "metadata": {
  "kernelspec": {
   "display_name": "manifold_env",
   "language": "python",
   "name": "manifold_env"
  },
  "language_info": {
   "codemirror_mode": {
    "name": "ipython",
    "version": 3
   },
   "file_extension": ".py",
   "mimetype": "text/x-python",
   "name": "python",
   "nbconvert_exporter": "python",
   "pygments_lexer": "ipython3",
   "version": "3.5.6"
  }
 },
 "nbformat": 4,
 "nbformat_minor": 5
}
